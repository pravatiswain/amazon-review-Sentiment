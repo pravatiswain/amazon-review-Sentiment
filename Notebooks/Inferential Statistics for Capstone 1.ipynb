{
 "cells": [
  {
   "cell_type": "markdown",
   "metadata": {},
   "source": [
    "## Inferential Statistics for Capstone 1: Sentiment Analysis of Amazon Products Reviews\n",
    "\n",
    "### Code for statical analysis"
   ]
  },
  {
   "cell_type": "code",
   "execution_count": 1,
   "metadata": {},
   "outputs": [],
   "source": [
    "# import modules\n",
    "import numpy as np\n",
    "import pandas as pd\n",
    "import matplotlib.pyplot as plt\n",
    "import seaborn as sns\n",
    "import scipy.stats\n",
    "from scipy.stats import norm\n",
    "from scipy.stats import t\n",
    "# Build figures inline\n",
    "%matplotlib inline"
   ]
  },
  {
   "cell_type": "code",
   "execution_count": 2,
   "metadata": {},
   "outputs": [],
   "source": [
    "#load pickled files to DataFrame\n",
    "baby_products = pd.read_pickle('baby_products_stats.pkl')\n",
    "grocery_foods = pd.read_pickle('grocery_foods_stats.pkl')\n",
    "cell_phones = pd.read_pickle('cell_phones_stats.pkl')"
   ]
  },
  {
   "cell_type": "markdown",
   "metadata": {},
   "source": [
    "### 1. Distribution of word count per review across the different star rated reviews"
   ]
  },
  {
   "cell_type": "code",
   "execution_count": 3,
   "metadata": {},
   "outputs": [
    {
     "data": {
      "text/html": [
       "<div>\n",
       "<style scoped>\n",
       "    .dataframe tbody tr th:only-of-type {\n",
       "        vertical-align: middle;\n",
       "    }\n",
       "\n",
       "    .dataframe tbody tr th {\n",
       "        vertical-align: top;\n",
       "    }\n",
       "\n",
       "    .dataframe thead th {\n",
       "        text-align: right;\n",
       "    }\n",
       "</style>\n",
       "<table border=\"1\" class=\"dataframe\">\n",
       "  <thead>\n",
       "    <tr style=\"text-align: right;\">\n",
       "      <th></th>\n",
       "      <th>rating</th>\n",
       "      <th>word_count</th>\n",
       "      <th>pct_capitals</th>\n",
       "    </tr>\n",
       "  </thead>\n",
       "  <tbody>\n",
       "    <tr>\n",
       "      <th>0</th>\n",
       "      <td>5</td>\n",
       "      <td>47</td>\n",
       "      <td>1.185771</td>\n",
       "    </tr>\n",
       "    <tr>\n",
       "      <th>1</th>\n",
       "      <td>5</td>\n",
       "      <td>105</td>\n",
       "      <td>0.899281</td>\n",
       "    </tr>\n",
       "  </tbody>\n",
       "</table>\n",
       "</div>"
      ],
      "text/plain": [
       "   rating  word_count  pct_capitals\n",
       "0       5          47      1.185771\n",
       "1       5         105      0.899281"
      ]
     },
     "execution_count": 3,
     "metadata": {},
     "output_type": "execute_result"
    }
   ],
   "source": [
    "# baby_products distribution\n",
    "\n",
    "rev_rating = baby_products[['rating', 'reviewText']]\n",
    "\n",
    "rev_rating_copy = rev_rating.copy()\n",
    "rev_rating_copy['word_count'] = rev_rating_copy['reviewText'].apply(lambda x: len(x.split())) # count words per review\n",
    "\n",
    "def caps(text):\n",
    "    return np.mean([1 if i.isupper() else 0 for i in text]) * 100\n",
    "\n",
    "rev_rating_copy['pct_capitals']= rev_rating_copy['reviewText'].apply(caps) # % caps\n",
    "\n",
    "rating_len_cap_baby = rev_rating_copy[['rating', 'word_count', 'pct_capitals']]\n",
    "rating_len_cap_baby.head(2)"
   ]
  },
  {
   "cell_type": "code",
   "execution_count": 4,
   "metadata": {},
   "outputs": [
    {
     "data": {
      "text/html": [
       "<div>\n",
       "<style scoped>\n",
       "    .dataframe tbody tr th:only-of-type {\n",
       "        vertical-align: middle;\n",
       "    }\n",
       "\n",
       "    .dataframe tbody tr th {\n",
       "        vertical-align: top;\n",
       "    }\n",
       "\n",
       "    .dataframe thead th {\n",
       "        text-align: right;\n",
       "    }\n",
       "</style>\n",
       "<table border=\"1\" class=\"dataframe\">\n",
       "  <thead>\n",
       "    <tr style=\"text-align: right;\">\n",
       "      <th></th>\n",
       "      <th>rating</th>\n",
       "      <th>word_count</th>\n",
       "      <th>pct_capitals</th>\n",
       "    </tr>\n",
       "  </thead>\n",
       "  <tbody>\n",
       "    <tr>\n",
       "      <th>0</th>\n",
       "      <td>4</td>\n",
       "      <td>31</td>\n",
       "      <td>3.086420</td>\n",
       "    </tr>\n",
       "    <tr>\n",
       "      <th>1</th>\n",
       "      <td>3</td>\n",
       "      <td>114</td>\n",
       "      <td>1.543739</td>\n",
       "    </tr>\n",
       "  </tbody>\n",
       "</table>\n",
       "</div>"
      ],
      "text/plain": [
       "   rating  word_count  pct_capitals\n",
       "0       4          31      3.086420\n",
       "1       3         114      1.543739"
      ]
     },
     "execution_count": 4,
     "metadata": {},
     "output_type": "execute_result"
    }
   ],
   "source": [
    "# Grocery_foods_Distribution\n",
    "\n",
    "rev_rating = grocery_foods[['rating', 'reviewText']]\n",
    "\n",
    "rev_rating_copy = rev_rating.copy()\n",
    "rev_rating_copy['word_count'] = rev_rating_copy['reviewText'].apply(lambda x: len(x.split())) # count words per review\n",
    "\n",
    "\n",
    "\n",
    "rev_rating_copy['pct_capitals']= rev_rating_copy['reviewText'].apply(caps) # % caps\n",
    "\n",
    "rating_len_cap_food = rev_rating_copy[['rating', 'word_count', 'pct_capitals']]\n",
    "rating_len_cap_food.head(2)"
   ]
  },
  {
   "cell_type": "code",
   "execution_count": 5,
   "metadata": {},
   "outputs": [
    {
     "data": {
      "text/html": [
       "<div>\n",
       "<style scoped>\n",
       "    .dataframe tbody tr th:only-of-type {\n",
       "        vertical-align: middle;\n",
       "    }\n",
       "\n",
       "    .dataframe tbody tr th {\n",
       "        vertical-align: top;\n",
       "    }\n",
       "\n",
       "    .dataframe thead th {\n",
       "        text-align: right;\n",
       "    }\n",
       "</style>\n",
       "<table border=\"1\" class=\"dataframe\">\n",
       "  <thead>\n",
       "    <tr style=\"text-align: right;\">\n",
       "      <th></th>\n",
       "      <th>rating</th>\n",
       "      <th>word_count</th>\n",
       "      <th>pct_capitals</th>\n",
       "    </tr>\n",
       "  </thead>\n",
       "  <tbody>\n",
       "    <tr>\n",
       "      <th>0</th>\n",
       "      <td>4</td>\n",
       "      <td>37</td>\n",
       "      <td>2.645503</td>\n",
       "    </tr>\n",
       "    <tr>\n",
       "      <th>1</th>\n",
       "      <td>5</td>\n",
       "      <td>32</td>\n",
       "      <td>2.500000</td>\n",
       "    </tr>\n",
       "  </tbody>\n",
       "</table>\n",
       "</div>"
      ],
      "text/plain": [
       "   rating  word_count  pct_capitals\n",
       "0       4          37      2.645503\n",
       "1       5          32      2.500000"
      ]
     },
     "execution_count": 5,
     "metadata": {},
     "output_type": "execute_result"
    }
   ],
   "source": [
    "# Cell_phones_Distribution\n",
    "rev_rating = cell_phones[['rating', 'reviewText']]\n",
    "\n",
    "rev_rating_copy = rev_rating.copy()\n",
    "rev_rating_copy['word_count'] = rev_rating_copy['reviewText'].apply(lambda x: len(x.split())) # count words per review\n",
    "\n",
    "\n",
    "rev_rating_copy['pct_capitals']= rev_rating_copy['reviewText'].apply(caps) # % caps\n",
    "\n",
    "rating_len_cap_phone = rev_rating_copy[['rating', 'word_count', 'pct_capitals']]\n",
    "rating_len_cap_phone.head(2)"
   ]
  },
  {
   "cell_type": "code",
   "execution_count": 6,
   "metadata": {},
   "outputs": [
    {
     "data": {
      "image/png": "[encoded data removed]",
      "text/plain": [
       "<Figure size 1296x432 with 3 Axes>"
      ]
     },
     "metadata": {
      "needs_background": "light"
     },
     "output_type": "display_data"
    }
   ],
   "source": [
    "# rating and review length distribution\n",
    "plt.figure(figsize=(18, 6))\n",
    "plt.subplot(1,3,1); sns.boxplot(x = 'rating', y = 'word_count', data = rating_len_cap_baby, showfliers=False, color='#348ABD').set(xlabel= 'Rating', ylabel='Word Count', title='Baby Products')\n",
    "plt.subplot(1,3,2); sns.boxplot(x = 'rating', y = 'word_count', data = rating_len_cap_food, showfliers=False, color='#A60628').set(xlabel= 'Rating', ylabel='Word Count', title='Grocery_Foods')\n",
    "plt.subplot(1,3,3);sns.boxplot(x = 'rating', y = 'word_count', data = rating_len_cap_phone, showfliers=False, color='#467821').set(xlabel= 'Rating', ylabel='Word Count', title='Cell Phones')\n",
    "plt.tight_layout(pad=2)"
   ]
  },
  {
   "cell_type": "markdown",
   "metadata": {},
   "source": [
    "From the above box plot we can see in all of the three product categories, five and one star rated reviews are found to be shorter than other three (2, 3,4) rated reviews.\n",
    "\n",
    "####  Hypothesis Test:\n",
    "\n",
    "- __Null Hypothesis__: The word counts for 5-star rated reviews and other rated reviews are same.\n",
    "\n",
    "- __Alternate Hypothesis__: The word counts for 5-star rated reviews and other rated reviews are not same.\n"
   ]
  },
  {
   "cell_type": "markdown",
   "metadata": {},
   "source": [
    "#### Category: Baby Products"
   ]
  },
  {
   "cell_type": "code",
   "execution_count": 7,
   "metadata": {
    "scrolled": false
   },
   "outputs": [
    {
     "data": {
      "text/html": [
       "<div>\n",
       "<style scoped>\n",
       "    .dataframe tbody tr th:only-of-type {\n",
       "        vertical-align: middle;\n",
       "    }\n",
       "\n",
       "    .dataframe tbody tr th {\n",
       "        vertical-align: top;\n",
       "    }\n",
       "\n",
       "    .dataframe thead th {\n",
       "        text-align: right;\n",
       "    }\n",
       "</style>\n",
       "<table border=\"1\" class=\"dataframe\">\n",
       "  <thead>\n",
       "    <tr style=\"text-align: right;\">\n",
       "      <th></th>\n",
       "      <th>rating</th>\n",
       "      <th>word_count</th>\n",
       "      <th>pct_capitals</th>\n",
       "      <th>rating_category</th>\n",
       "    </tr>\n",
       "  </thead>\n",
       "  <tbody>\n",
       "    <tr>\n",
       "      <th>0</th>\n",
       "      <td>5</td>\n",
       "      <td>47</td>\n",
       "      <td>1.185771</td>\n",
       "      <td>five</td>\n",
       "    </tr>\n",
       "    <tr>\n",
       "      <th>1</th>\n",
       "      <td>5</td>\n",
       "      <td>105</td>\n",
       "      <td>0.899281</td>\n",
       "      <td>five</td>\n",
       "    </tr>\n",
       "  </tbody>\n",
       "</table>\n",
       "</div>"
      ],
      "text/plain": [
       "   rating  word_count  pct_capitals rating_category\n",
       "0       5          47      1.185771            five\n",
       "1       5         105      0.899281            five"
      ]
     },
     "execution_count": 7,
     "metadata": {},
     "output_type": "execute_result"
    }
   ],
   "source": [
    "# Create a new column called rating_category and divide the ratings into two groups 'five' and 'not5'(all other rating less than 5)\n",
    "rating_len_cap_baby['rating_category'] = np.where(rating_len_cap_baby['rating'] == 5 , 'five', 'not5')\n",
    "rating_len_cap_baby.head(2)"
   ]
  },
  {
   "cell_type": "code",
   "execution_count": 8,
   "metadata": {},
   "outputs": [
    {
     "data": {
      "text/html": [
       "<div>\n",
       "<style scoped>\n",
       "    .dataframe tbody tr th:only-of-type {\n",
       "        vertical-align: middle;\n",
       "    }\n",
       "\n",
       "    .dataframe tbody tr th {\n",
       "        vertical-align: top;\n",
       "    }\n",
       "\n",
       "    .dataframe thead th {\n",
       "        text-align: right;\n",
       "    }\n",
       "</style>\n",
       "<table border=\"1\" class=\"dataframe\">\n",
       "  <thead>\n",
       "    <tr style=\"text-align: right;\">\n",
       "      <th></th>\n",
       "      <th>count</th>\n",
       "      <th>mean</th>\n",
       "      <th>std</th>\n",
       "      <th>min</th>\n",
       "      <th>25%</th>\n",
       "      <th>50%</th>\n",
       "      <th>75%</th>\n",
       "      <th>max</th>\n",
       "    </tr>\n",
       "    <tr>\n",
       "      <th>rating_category</th>\n",
       "      <th></th>\n",
       "      <th></th>\n",
       "      <th></th>\n",
       "      <th></th>\n",
       "      <th></th>\n",
       "      <th></th>\n",
       "      <th></th>\n",
       "      <th></th>\n",
       "    </tr>\n",
       "  </thead>\n",
       "  <tbody>\n",
       "    <tr>\n",
       "      <th>five</th>\n",
       "      <td>93440.0</td>\n",
       "      <td>89.347410</td>\n",
       "      <td>95.477899</td>\n",
       "      <td>3.0</td>\n",
       "      <td>35.0</td>\n",
       "      <td>61.0</td>\n",
       "      <td>108.0</td>\n",
       "      <td>2352.0</td>\n",
       "    </tr>\n",
       "    <tr>\n",
       "      <th>not5</th>\n",
       "      <td>67222.0</td>\n",
       "      <td>112.061096</td>\n",
       "      <td>116.950956</td>\n",
       "      <td>3.0</td>\n",
       "      <td>45.0</td>\n",
       "      <td>77.0</td>\n",
       "      <td>136.0</td>\n",
       "      <td>3855.0</td>\n",
       "    </tr>\n",
       "  </tbody>\n",
       "</table>\n",
       "</div>"
      ],
      "text/plain": [
       "                   count        mean         std  min   25%   50%    75%  \\\n",
       "rating_category                                                            \n",
       "five             93440.0   89.347410   95.477899  3.0  35.0  61.0  108.0   \n",
       "not5             67222.0  112.061096  116.950956  3.0  45.0  77.0  136.0   \n",
       "\n",
       "                    max  \n",
       "rating_category          \n",
       "five             2352.0  \n",
       "not5             3855.0  "
      ]
     },
     "execution_count": 8,
     "metadata": {},
     "output_type": "execute_result"
    }
   ],
   "source": [
    "# Group the rating_category column and get descriptive stats (Baby_Products)\n",
    "\n",
    "rating_group_baby = rating_len_cap_baby['word_count'].groupby(rating_len_cap_baby['rating_category'])\n",
    "rating_group_baby.describe()"
   ]
  },
  {
   "cell_type": "code",
   "execution_count": 9,
   "metadata": {},
   "outputs": [
    {
     "name": "stdout",
     "output_type": "stream",
     "text": [
      "Tests statistic 41.398\n",
      "P-value of test 0.000\n"
     ]
    }
   ],
   "source": [
    "# create array for two different rating category\n",
    "rating_5_baby = rating_len_cap_baby.word_count[rating_len_cap_baby.rating_category == 'five']  \n",
    "rating_not5_baby = rating_len_cap_baby.word_count[rating_len_cap_baby.rating_category == 'not5'] \n",
    "\n",
    "# perform hypothesis test with two-sided independent t-test for unequal variances\n",
    "\n",
    "tstat, p_value = scipy.stats.ttest_ind(rating_not5_baby,rating_5_baby, equal_var=False)\n",
    "print('Tests statistic', '{0:0.3f}'.format(tstat))\n",
    "print('P-value of test', '{0:0.3f}'.format(p_value))"
   ]
  },
  {
   "cell_type": "markdown",
   "metadata": {},
   "source": [
    "#### Category: Grocery_Foods\n",
    "\n"
   ]
  },
  {
   "cell_type": "code",
   "execution_count": 10,
   "metadata": {},
   "outputs": [
    {
     "data": {
      "text/html": [
       "<div>\n",
       "<style scoped>\n",
       "    .dataframe tbody tr th:only-of-type {\n",
       "        vertical-align: middle;\n",
       "    }\n",
       "\n",
       "    .dataframe tbody tr th {\n",
       "        vertical-align: top;\n",
       "    }\n",
       "\n",
       "    .dataframe thead th {\n",
       "        text-align: right;\n",
       "    }\n",
       "</style>\n",
       "<table border=\"1\" class=\"dataframe\">\n",
       "  <thead>\n",
       "    <tr style=\"text-align: right;\">\n",
       "      <th></th>\n",
       "      <th>rating</th>\n",
       "      <th>word_count</th>\n",
       "      <th>pct_capitals</th>\n",
       "      <th>rating_category</th>\n",
       "    </tr>\n",
       "  </thead>\n",
       "  <tbody>\n",
       "    <tr>\n",
       "      <th>0</th>\n",
       "      <td>4</td>\n",
       "      <td>31</td>\n",
       "      <td>3.086420</td>\n",
       "      <td>not5</td>\n",
       "    </tr>\n",
       "    <tr>\n",
       "      <th>1</th>\n",
       "      <td>3</td>\n",
       "      <td>114</td>\n",
       "      <td>1.543739</td>\n",
       "      <td>not5</td>\n",
       "    </tr>\n",
       "  </tbody>\n",
       "</table>\n",
       "</div>"
      ],
      "text/plain": [
       "   rating  word_count  pct_capitals rating_category\n",
       "0       4          31      3.086420            not5\n",
       "1       3         114      1.543739            not5"
      ]
     },
     "execution_count": 10,
     "metadata": {},
     "output_type": "execute_result"
    }
   ],
   "source": [
    "# Create a new column called rating_category and divide the ratings into two groups 'five' and 'not5'(all other rating less than 5)\n",
    "rating_len_cap_food['rating_category'] = np.where(rating_len_cap_food['rating'] == 5 , 'five', 'not5')\n",
    "rating_len_cap_food.head(2)"
   ]
  },
  {
   "cell_type": "code",
   "execution_count": 11,
   "metadata": {},
   "outputs": [
    {
     "data": {
      "text/html": [
       "<div>\n",
       "<style scoped>\n",
       "    .dataframe tbody tr th:only-of-type {\n",
       "        vertical-align: middle;\n",
       "    }\n",
       "\n",
       "    .dataframe tbody tr th {\n",
       "        vertical-align: top;\n",
       "    }\n",
       "\n",
       "    .dataframe thead th {\n",
       "        text-align: right;\n",
       "    }\n",
       "</style>\n",
       "<table border=\"1\" class=\"dataframe\">\n",
       "  <thead>\n",
       "    <tr style=\"text-align: right;\">\n",
       "      <th></th>\n",
       "      <th>count</th>\n",
       "      <th>mean</th>\n",
       "      <th>std</th>\n",
       "      <th>min</th>\n",
       "      <th>25%</th>\n",
       "      <th>50%</th>\n",
       "      <th>75%</th>\n",
       "      <th>max</th>\n",
       "    </tr>\n",
       "    <tr>\n",
       "      <th>rating_category</th>\n",
       "      <th></th>\n",
       "      <th></th>\n",
       "      <th></th>\n",
       "      <th></th>\n",
       "      <th></th>\n",
       "      <th></th>\n",
       "      <th></th>\n",
       "      <th></th>\n",
       "    </tr>\n",
       "  </thead>\n",
       "  <tbody>\n",
       "    <tr>\n",
       "      <th>five</th>\n",
       "      <td>87298.0</td>\n",
       "      <td>81.111400</td>\n",
       "      <td>84.416838</td>\n",
       "      <td>3.0</td>\n",
       "      <td>31.0</td>\n",
       "      <td>55.0</td>\n",
       "      <td>100.0</td>\n",
       "      <td>4693.0</td>\n",
       "    </tr>\n",
       "    <tr>\n",
       "      <th>not5</th>\n",
       "      <td>63756.0</td>\n",
       "      <td>109.782609</td>\n",
       "      <td>100.297569</td>\n",
       "      <td>3.0</td>\n",
       "      <td>46.0</td>\n",
       "      <td>83.0</td>\n",
       "      <td>140.0</td>\n",
       "      <td>3368.0</td>\n",
       "    </tr>\n",
       "  </tbody>\n",
       "</table>\n",
       "</div>"
      ],
      "text/plain": [
       "                   count        mean         std  min   25%   50%    75%  \\\n",
       "rating_category                                                            \n",
       "five             87298.0   81.111400   84.416838  3.0  31.0  55.0  100.0   \n",
       "not5             63756.0  109.782609  100.297569  3.0  46.0  83.0  140.0   \n",
       "\n",
       "                    max  \n",
       "rating_category          \n",
       "five             4693.0  \n",
       "not5             3368.0  "
      ]
     },
     "execution_count": 11,
     "metadata": {},
     "output_type": "execute_result"
    }
   ],
   "source": [
    "# Group the rating_category column and get descriptive stats (Baby_Products)\n",
    "\n",
    "rating_group_food = rating_len_cap_food['word_count'].groupby(rating_len_cap_food['rating_category'])\n",
    "rating_group_food.describe()"
   ]
  },
  {
   "cell_type": "code",
   "execution_count": 12,
   "metadata": {},
   "outputs": [
    {
     "name": "stdout",
     "output_type": "stream",
     "text": [
      "Tests statistic 58.596\n",
      "P-value of test 0.000\n"
     ]
    }
   ],
   "source": [
    "# create array for two different rating category\n",
    "rating_5_food = rating_len_cap_food.word_count[rating_len_cap_food.rating_category == 'five']  \n",
    "rating_not5_food = rating_len_cap_food.word_count[rating_len_cap_food.rating_category == 'not5'] \n",
    "\n",
    "# perform hypothesis test with two-sided independent t-test for unequal variances\n",
    "\n",
    "tstat, p_value = scipy.stats.ttest_ind(rating_not5_food,rating_5_food, equal_var=False)\n",
    "print('Tests statistic', '{0:0.3f}'.format(tstat))\n",
    "print('P-value of test', '{0:0.3f}'.format(p_value))"
   ]
  },
  {
   "cell_type": "markdown",
   "metadata": {},
   "source": [
    "#### Category: Cell Phones"
   ]
  },
  {
   "cell_type": "code",
   "execution_count": 13,
   "metadata": {},
   "outputs": [
    {
     "data": {
      "text/html": [
       "<div>\n",
       "<style scoped>\n",
       "    .dataframe tbody tr th:only-of-type {\n",
       "        vertical-align: middle;\n",
       "    }\n",
       "\n",
       "    .dataframe tbody tr th {\n",
       "        vertical-align: top;\n",
       "    }\n",
       "\n",
       "    .dataframe thead th {\n",
       "        text-align: right;\n",
       "    }\n",
       "</style>\n",
       "<table border=\"1\" class=\"dataframe\">\n",
       "  <thead>\n",
       "    <tr style=\"text-align: right;\">\n",
       "      <th></th>\n",
       "      <th>rating</th>\n",
       "      <th>word_count</th>\n",
       "      <th>pct_capitals</th>\n",
       "      <th>rating_category</th>\n",
       "    </tr>\n",
       "  </thead>\n",
       "  <tbody>\n",
       "    <tr>\n",
       "      <th>0</th>\n",
       "      <td>4</td>\n",
       "      <td>37</td>\n",
       "      <td>2.645503</td>\n",
       "      <td>not5</td>\n",
       "    </tr>\n",
       "    <tr>\n",
       "      <th>1</th>\n",
       "      <td>5</td>\n",
       "      <td>32</td>\n",
       "      <td>2.500000</td>\n",
       "      <td>five</td>\n",
       "    </tr>\n",
       "  </tbody>\n",
       "</table>\n",
       "</div>"
      ],
      "text/plain": [
       "   rating  word_count  pct_capitals rating_category\n",
       "0       4          37      2.645503            not5\n",
       "1       5          32      2.500000            five"
      ]
     },
     "execution_count": 13,
     "metadata": {},
     "output_type": "execute_result"
    }
   ],
   "source": [
    "# Create a new column called rating_category and divide the ratings into two groups 'five' and 'not5'(all other rating less than 5)\n",
    "rating_len_cap_phone['rating_category'] = np.where(rating_len_cap_phone['rating'] == 5 , 'five', 'not5')\n",
    "rating_len_cap_phone.head(2)"
   ]
  },
  {
   "cell_type": "code",
   "execution_count": 14,
   "metadata": {},
   "outputs": [
    {
     "data": {
      "text/html": [
       "<div>\n",
       "<style scoped>\n",
       "    .dataframe tbody tr th:only-of-type {\n",
       "        vertical-align: middle;\n",
       "    }\n",
       "\n",
       "    .dataframe tbody tr th {\n",
       "        vertical-align: top;\n",
       "    }\n",
       "\n",
       "    .dataframe thead th {\n",
       "        text-align: right;\n",
       "    }\n",
       "</style>\n",
       "<table border=\"1\" class=\"dataframe\">\n",
       "  <thead>\n",
       "    <tr style=\"text-align: right;\">\n",
       "      <th></th>\n",
       "      <th>count</th>\n",
       "      <th>mean</th>\n",
       "      <th>std</th>\n",
       "      <th>min</th>\n",
       "      <th>25%</th>\n",
       "      <th>50%</th>\n",
       "      <th>75%</th>\n",
       "      <th>max</th>\n",
       "    </tr>\n",
       "    <tr>\n",
       "      <th>rating_category</th>\n",
       "      <th></th>\n",
       "      <th></th>\n",
       "      <th></th>\n",
       "      <th></th>\n",
       "      <th></th>\n",
       "      <th></th>\n",
       "      <th></th>\n",
       "      <th></th>\n",
       "    </tr>\n",
       "  </thead>\n",
       "  <tbody>\n",
       "    <tr>\n",
       "      <th>five</th>\n",
       "      <td>108281.0</td>\n",
       "      <td>85.306841</td>\n",
       "      <td>131.686613</td>\n",
       "      <td>3.0</td>\n",
       "      <td>26.0</td>\n",
       "      <td>43.0</td>\n",
       "      <td>90.0</td>\n",
       "      <td>5263.0</td>\n",
       "    </tr>\n",
       "    <tr>\n",
       "      <th>not5</th>\n",
       "      <td>85595.0</td>\n",
       "      <td>100.125533</td>\n",
       "      <td>138.566473</td>\n",
       "      <td>3.0</td>\n",
       "      <td>30.0</td>\n",
       "      <td>54.0</td>\n",
       "      <td>114.0</td>\n",
       "      <td>4105.0</td>\n",
       "    </tr>\n",
       "  </tbody>\n",
       "</table>\n",
       "</div>"
      ],
      "text/plain": [
       "                    count        mean         std  min   25%   50%    75%  \\\n",
       "rating_category                                                             \n",
       "five             108281.0   85.306841  131.686613  3.0  26.0  43.0   90.0   \n",
       "not5              85595.0  100.125533  138.566473  3.0  30.0  54.0  114.0   \n",
       "\n",
       "                    max  \n",
       "rating_category          \n",
       "five             5263.0  \n",
       "not5             4105.0  "
      ]
     },
     "execution_count": 14,
     "metadata": {},
     "output_type": "execute_result"
    }
   ],
   "source": [
    "# Group the rating_category column and get descriptive stats (Baby_Products)\n",
    "\n",
    "rating_group_phone = rating_len_cap_phone['word_count'].groupby(rating_len_cap_phone['rating_category'])\n",
    "rating_group_phone.describe()"
   ]
  },
  {
   "cell_type": "code",
   "execution_count": 15,
   "metadata": {},
   "outputs": [
    {
     "name": "stdout",
     "output_type": "stream",
     "text": [
      "Tests statistic 23.899\n",
      "P-value of test 0.000\n"
     ]
    }
   ],
   "source": [
    "# create array for two different rating category\n",
    "rating_5_phone = rating_len_cap_phone.word_count[rating_len_cap_phone.rating_category == 'five']  \n",
    "rating_not5_phone = rating_len_cap_phone.word_count[rating_len_cap_phone.rating_category == 'not5'] \n",
    "\n",
    "# perform hypothesis test with two-sided independent t-test for unequal variances\n",
    "\n",
    "tstat, p_value = scipy.stats.ttest_ind(rating_not5_phone,rating_5_phone, equal_var=False)\n",
    "print('Tests statistic', '{0:0.3f}'.format(tstat))\n",
    "print('P-value of test', '{0:0.3f}'.format(p_value))"
   ]
  },
  {
   "cell_type": "markdown",
   "metadata": {},
   "source": [
    "__In all the three product categories, since p_value is less than 0.05 we reject the null hypothesis and conclude that the word counts for 5-star rated reviews and other rated reviews are not same.__\n",
    "\n"
   ]
  },
  {
   "cell_type": "markdown",
   "metadata": {},
   "source": [
    "### 2. Distribution of the percentage of uppercase letters in different star rated reviews\n"
   ]
  },
  {
   "cell_type": "code",
   "execution_count": 16,
   "metadata": {},
   "outputs": [
    {
     "data": {
      "image/png": "[encoded data removed]",
      "text/plain": [
       "<Figure size 1296x432 with 3 Axes>"
      ]
     },
     "metadata": {
      "needs_background": "light"
     },
     "output_type": "display_data"
    }
   ],
   "source": [
    "# Rating and % caps distribution \n",
    "plt.figure(figsize=(18,6))\n",
    "plt.subplot(1,3,1);sns.boxplot(x = 'rating', y = 'pct_capitals', data = rating_len_cap_baby, showfliers=False, color='#348ABD').set(xlabel= 'Rating',ylabel='% of Capitals', title='Baby Products')\n",
    "\n",
    "plt.subplot(1,3,2);sns.boxplot(x = 'rating', y = 'pct_capitals', data = rating_len_cap_food, showfliers=False,color='#A60628').set(xlabel= 'Rating',ylabel='% of Capitals',title='Grocery_Foods')\n",
    "\n",
    "plt.subplot(1,3,3);sns.boxplot(x = 'rating', y = 'pct_capitals', data = rating_len_cap_phone, showfliers=False, color='#467821').set(xlabel= 'Rating',ylabel='% of Capitals',title='Cell Phones')\n",
    "plt.tight_layout(pad=2)"
   ]
  },
  {
   "cell_type": "markdown",
   "metadata": {},
   "source": [
    "From the above distribution of percentage of uppercase letters across different star rated reviews we can see that in all the three product categories, reviews corresponding to 1-star and 5-star ratings have more uppercase letters and three star rated reviews have least upper case letters. \n",
    "\n",
    "####  Hypothesis Test:\n",
    "\n",
    "- __Null Hypothesis__: The % of capitals for 5-star rated reviews are same as other rated reviews.\n",
    "\n",
    "- __Alternate Hypothesis__: The % of capitals for 5-star rated reviews are different from the other rated reviews."
   ]
  },
  {
   "cell_type": "markdown",
   "metadata": {},
   "source": [
    "#### Category: Baby Products"
   ]
  },
  {
   "cell_type": "code",
   "execution_count": 17,
   "metadata": {},
   "outputs": [
    {
     "data": {
      "text/html": [
       "<div>\n",
       "<style scoped>\n",
       "    .dataframe tbody tr th:only-of-type {\n",
       "        vertical-align: middle;\n",
       "    }\n",
       "\n",
       "    .dataframe tbody tr th {\n",
       "        vertical-align: top;\n",
       "    }\n",
       "\n",
       "    .dataframe thead th {\n",
       "        text-align: right;\n",
       "    }\n",
       "</style>\n",
       "<table border=\"1\" class=\"dataframe\">\n",
       "  <thead>\n",
       "    <tr style=\"text-align: right;\">\n",
       "      <th></th>\n",
       "      <th>count</th>\n",
       "      <th>mean</th>\n",
       "      <th>std</th>\n",
       "      <th>min</th>\n",
       "      <th>25%</th>\n",
       "      <th>50%</th>\n",
       "      <th>75%</th>\n",
       "      <th>max</th>\n",
       "    </tr>\n",
       "    <tr>\n",
       "      <th>rating_category</th>\n",
       "      <th></th>\n",
       "      <th></th>\n",
       "      <th></th>\n",
       "      <th></th>\n",
       "      <th></th>\n",
       "      <th></th>\n",
       "      <th></th>\n",
       "      <th></th>\n",
       "    </tr>\n",
       "  </thead>\n",
       "  <tbody>\n",
       "    <tr>\n",
       "      <th>five</th>\n",
       "      <td>93440.0</td>\n",
       "      <td>2.306988</td>\n",
       "      <td>3.728225</td>\n",
       "      <td>0.0</td>\n",
       "      <td>1.449275</td>\n",
       "      <td>1.908397</td>\n",
       "      <td>2.550614</td>\n",
       "      <td>84.920635</td>\n",
       "    </tr>\n",
       "    <tr>\n",
       "      <th>not5</th>\n",
       "      <td>67222.0</td>\n",
       "      <td>2.110268</td>\n",
       "      <td>2.769277</td>\n",
       "      <td>0.0</td>\n",
       "      <td>1.395349</td>\n",
       "      <td>1.831502</td>\n",
       "      <td>2.409639</td>\n",
       "      <td>81.578947</td>\n",
       "    </tr>\n",
       "  </tbody>\n",
       "</table>\n",
       "</div>"
      ],
      "text/plain": [
       "                   count      mean       std  min       25%       50%  \\\n",
       "rating_category                                                         \n",
       "five             93440.0  2.306988  3.728225  0.0  1.449275  1.908397   \n",
       "not5             67222.0  2.110268  2.769277  0.0  1.395349  1.831502   \n",
       "\n",
       "                      75%        max  \n",
       "rating_category                       \n",
       "five             2.550614  84.920635  \n",
       "not5             2.409639  81.578947  "
      ]
     },
     "execution_count": 17,
     "metadata": {},
     "output_type": "execute_result"
    }
   ],
   "source": [
    "# Group the rating_category column and get descriptive stats (Baby_Products)\n",
    "\n",
    "caps_group_baby = rating_len_cap_baby['pct_capitals'].groupby(rating_len_cap_baby['rating_category'])\n",
    "caps_group_baby.describe()"
   ]
  },
  {
   "cell_type": "code",
   "execution_count": 18,
   "metadata": {},
   "outputs": [
    {
     "name": "stdout",
     "output_type": "stream",
     "text": [
      "Tests statistic 12.134\n",
      "P-value of test 0.000\n"
     ]
    }
   ],
   "source": [
    "# create array for two different rating category\n",
    "caps_5_baby = rating_len_cap_baby.pct_capitals[rating_len_cap_baby.rating_category == 'five']  \n",
    "caps_not5_baby = rating_len_cap_baby.pct_capitals[rating_len_cap_baby.rating_category == 'not5'] \n",
    "\n",
    "\n",
    "# perform hypothesis test with two_sided independent t-test for unequal variances\n",
    "\n",
    "tstat, p_value = scipy.stats.ttest_ind(caps_5_baby,caps_not5_baby, equal_var=False)\n",
    "print('Tests statistic', '{0:0.3f}'.format(tstat))\n",
    "print('P-value of test', '{0:0.3f}'.format(p_value))"
   ]
  },
  {
   "cell_type": "code",
   "execution_count": 19,
   "metadata": {},
   "outputs": [
    {
     "name": "stdout",
     "output_type": "stream",
     "text": [
      "Tests statistic 12.134\n",
      "P-value of test 0.000\n"
     ]
    }
   ],
   "source": [
    "# create array for two different rating category\n",
    "caps_5_baby = rating_len_cap_baby[rating_len_cap_baby['rating'].apply(lambda x: x==5)]['pct_capitals']\n",
    "caps_not5_baby = rating_len_cap_baby[rating_len_cap_baby['rating'].apply(lambda x: x<5)]['pct_capitals'] \n",
    "\n",
    "\n",
    "# perform hypothesis test with two_sided independent t-test for unequal variances\n",
    "\n",
    "tstat, p_value = scipy.stats.ttest_ind(caps_5_baby,caps_not5_baby, equal_var=False)\n",
    "print('Tests statistic', '{0:0.3f}'.format(tstat))\n",
    "print('P-value of test', '{0:0.3f}'.format(p_value))"
   ]
  },
  {
   "cell_type": "markdown",
   "metadata": {},
   "source": [
    "#### Category: Grocery_Foods"
   ]
  },
  {
   "cell_type": "code",
   "execution_count": 20,
   "metadata": {},
   "outputs": [
    {
     "data": {
      "text/html": [
       "<div>\n",
       "<style scoped>\n",
       "    .dataframe tbody tr th:only-of-type {\n",
       "        vertical-align: middle;\n",
       "    }\n",
       "\n",
       "    .dataframe tbody tr th {\n",
       "        vertical-align: top;\n",
       "    }\n",
       "\n",
       "    .dataframe thead th {\n",
       "        text-align: right;\n",
       "    }\n",
       "</style>\n",
       "<table border=\"1\" class=\"dataframe\">\n",
       "  <thead>\n",
       "    <tr style=\"text-align: right;\">\n",
       "      <th></th>\n",
       "      <th>count</th>\n",
       "      <th>mean</th>\n",
       "      <th>std</th>\n",
       "      <th>min</th>\n",
       "      <th>25%</th>\n",
       "      <th>50%</th>\n",
       "      <th>75%</th>\n",
       "      <th>max</th>\n",
       "    </tr>\n",
       "    <tr>\n",
       "      <th>rating_category</th>\n",
       "      <th></th>\n",
       "      <th></th>\n",
       "      <th></th>\n",
       "      <th></th>\n",
       "      <th></th>\n",
       "      <th></th>\n",
       "      <th></th>\n",
       "      <th></th>\n",
       "    </tr>\n",
       "  </thead>\n",
       "  <tbody>\n",
       "    <tr>\n",
       "      <th>five</th>\n",
       "      <td>87298.0</td>\n",
       "      <td>3.173263</td>\n",
       "      <td>6.338022</td>\n",
       "      <td>0.0</td>\n",
       "      <td>1.739130</td>\n",
       "      <td>2.336449</td>\n",
       "      <td>3.174603</td>\n",
       "      <td>85.714286</td>\n",
       "    </tr>\n",
       "    <tr>\n",
       "      <th>not5</th>\n",
       "      <td>63756.0</td>\n",
       "      <td>2.789491</td>\n",
       "      <td>4.640589</td>\n",
       "      <td>0.0</td>\n",
       "      <td>1.694915</td>\n",
       "      <td>2.232143</td>\n",
       "      <td>2.957334</td>\n",
       "      <td>82.812500</td>\n",
       "    </tr>\n",
       "  </tbody>\n",
       "</table>\n",
       "</div>"
      ],
      "text/plain": [
       "                   count      mean       std  min       25%       50%  \\\n",
       "rating_category                                                         \n",
       "five             87298.0  3.173263  6.338022  0.0  1.739130  2.336449   \n",
       "not5             63756.0  2.789491  4.640589  0.0  1.694915  2.232143   \n",
       "\n",
       "                      75%        max  \n",
       "rating_category                       \n",
       "five             3.174603  85.714286  \n",
       "not5             2.957334  82.812500  "
      ]
     },
     "execution_count": 20,
     "metadata": {},
     "output_type": "execute_result"
    }
   ],
   "source": [
    "# Group the rating_category column and get descriptive stats \n",
    "\n",
    "caps_group_food = rating_len_cap_food['pct_capitals'].groupby(rating_len_cap_food['rating_category'])\n",
    "caps_group_food.describe()"
   ]
  },
  {
   "cell_type": "code",
   "execution_count": 21,
   "metadata": {},
   "outputs": [
    {
     "name": "stdout",
     "output_type": "stream",
     "text": [
      "Tests statistic 13.586\n",
      "P-value of test 0.000\n"
     ]
    }
   ],
   "source": [
    "# create array for two different rating category\n",
    "caps_5_food = rating_len_cap_food.pct_capitals[rating_len_cap_food.rating_category == 'five']  \n",
    "caps_not5_food = rating_len_cap_food.pct_capitals[rating_len_cap_food.rating_category == 'not5'] \n",
    "\n",
    "\n",
    "# perform hypothesis test with two_sided independent t-test for unequal variances\n",
    "\n",
    "tstat, p_value = scipy.stats.ttest_ind(caps_5_food,caps_not5_food, equal_var=False)\n",
    "print('Tests statistic', '{0:0.3f}'.format(tstat))\n",
    "print('P-value of test', '{0:0.3f}'.format(p_value))"
   ]
  },
  {
   "cell_type": "markdown",
   "metadata": {},
   "source": [
    "#### Category: Cell Phones"
   ]
  },
  {
   "cell_type": "code",
   "execution_count": 22,
   "metadata": {},
   "outputs": [
    {
     "data": {
      "text/html": [
       "<div>\n",
       "<style scoped>\n",
       "    .dataframe tbody tr th:only-of-type {\n",
       "        vertical-align: middle;\n",
       "    }\n",
       "\n",
       "    .dataframe tbody tr th {\n",
       "        vertical-align: top;\n",
       "    }\n",
       "\n",
       "    .dataframe thead th {\n",
       "        text-align: right;\n",
       "    }\n",
       "</style>\n",
       "<table border=\"1\" class=\"dataframe\">\n",
       "  <thead>\n",
       "    <tr style=\"text-align: right;\">\n",
       "      <th></th>\n",
       "      <th>count</th>\n",
       "      <th>mean</th>\n",
       "      <th>std</th>\n",
       "      <th>min</th>\n",
       "      <th>25%</th>\n",
       "      <th>50%</th>\n",
       "      <th>75%</th>\n",
       "      <th>max</th>\n",
       "    </tr>\n",
       "    <tr>\n",
       "      <th>rating_category</th>\n",
       "      <th></th>\n",
       "      <th></th>\n",
       "      <th></th>\n",
       "      <th></th>\n",
       "      <th></th>\n",
       "      <th></th>\n",
       "      <th></th>\n",
       "      <th></th>\n",
       "    </tr>\n",
       "  </thead>\n",
       "  <tbody>\n",
       "    <tr>\n",
       "      <th>five</th>\n",
       "      <td>108281.0</td>\n",
       "      <td>3.311927</td>\n",
       "      <td>6.792742</td>\n",
       "      <td>0.0</td>\n",
       "      <td>1.712329</td>\n",
       "      <td>2.429150</td>\n",
       "      <td>3.370787</td>\n",
       "      <td>86.111111</td>\n",
       "    </tr>\n",
       "    <tr>\n",
       "      <th>not5</th>\n",
       "      <td>85595.0</td>\n",
       "      <td>2.950758</td>\n",
       "      <td>6.107330</td>\n",
       "      <td>0.0</td>\n",
       "      <td>1.562500</td>\n",
       "      <td>2.189781</td>\n",
       "      <td>3.028909</td>\n",
       "      <td>88.461538</td>\n",
       "    </tr>\n",
       "  </tbody>\n",
       "</table>\n",
       "</div>"
      ],
      "text/plain": [
       "                    count      mean       std  min       25%       50%  \\\n",
       "rating_category                                                          \n",
       "five             108281.0  3.311927  6.792742  0.0  1.712329  2.429150   \n",
       "not5              85595.0  2.950758  6.107330  0.0  1.562500  2.189781   \n",
       "\n",
       "                      75%        max  \n",
       "rating_category                       \n",
       "five             3.370787  86.111111  \n",
       "not5             3.028909  88.461538  "
      ]
     },
     "execution_count": 22,
     "metadata": {},
     "output_type": "execute_result"
    }
   ],
   "source": [
    "# Group the rating_category column and get descriptive stats \n",
    "\n",
    "caps_group_phone = rating_len_cap_phone['pct_capitals'].groupby(rating_len_cap_phone['rating_category'])\n",
    "caps_group_phone.describe()"
   ]
  },
  {
   "cell_type": "code",
   "execution_count": 23,
   "metadata": {},
   "outputs": [
    {
     "name": "stdout",
     "output_type": "stream",
     "text": [
      "Tests statistic 12.302\n",
      "P-value of test 0.000\n"
     ]
    }
   ],
   "source": [
    "# create array for two different rating category\n",
    "caps_5_phone = rating_len_cap_phone.pct_capitals[rating_len_cap_phone.rating_category == 'five']  \n",
    "caps_not5_phone = rating_len_cap_phone.pct_capitals[rating_len_cap_phone.rating_category == 'not5'] \n",
    "\n",
    "\n",
    "# perform hypothesis test with two_sided independent t-test for unequal variances\n",
    "\n",
    "tstat, p_value = scipy.stats.ttest_ind(caps_5_phone,caps_not5_phone, equal_var=False)\n",
    "print('Tests statistic', '{0:0.3f}'.format(tstat))\n",
    "print('P-value of test', '{0:0.3f}'.format(p_value))"
   ]
  },
  {
   "cell_type": "markdown",
   "metadata": {},
   "source": [
    "__In all of the three product categories, since p_value is less than 0.05 we reject the null hypothesis and conclude that the % of capitals for 5-star rated reviews are different from the other rated reviews.__"
   ]
  },
  {
   "cell_type": "markdown",
   "metadata": {},
   "source": [
    "### 3. Compare the higher percentage of uppercase letters (>60%) in different star rated reviews\n",
    "\n",
    "For all the three product categories the % of capitals show bimodal distribution one peak centered at around 20% and the other peak centered at around 70% of capitals. Here we are comparing the greater than 60% uppercase letters in different star rated reviews.\n"
   ]
  },
  {
   "cell_type": "code",
   "execution_count": 24,
   "metadata": {},
   "outputs": [
    {
     "data": {
      "image/png": "[encoded data removed]",
      "text/plain": [
       "<Figure size 1296x432 with 3 Axes>"
      ]
     },
     "metadata": {
      "needs_background": "light"
     },
     "output_type": "display_data"
    }
   ],
   "source": [
    "# Distribution of % caps(>60%) vs ratings\n",
    "rating_len_cap_baby['many_caps'] = rating_len_cap_baby['pct_capitals'].apply(lambda x: x >= 60)\n",
    "rating_len_cap_food['many_caps'] = rating_len_cap_food['pct_capitals'].apply(lambda x: x >= 60)\n",
    "rating_len_cap_phone['many_caps'] = rating_len_cap_phone['pct_capitals'].apply(lambda x: x >= 60)\n",
    "\n",
    "baby_caps = rating_len_cap_baby[['rating','many_caps']].groupby('rating').mean()\n",
    "food_caps = rating_len_cap_food[['rating','many_caps']].groupby('rating').mean()\n",
    "phone_caps = rating_len_cap_phone[['rating','many_caps']].groupby('rating').mean()\n",
    "\n",
    "\n",
    "fig, axes = plt.subplots(1, 3, figsize= (18,6))\n",
    "\n",
    "baby_caps.plot(kind='bar', ax=axes[0], color='#348ABD',rot = 0, alpha=0.8).set(xlabel='Rating', ylabel='% Reviews with >60% Capitals')\n",
    "food_caps.plot(kind='bar', ax=axes[1], color='#A60628',rot = 0, alpha=0.8).set(xlabel='Rating', ylabel='% Reviews with >60% Capitals')\n",
    "phone_caps.plot(kind='bar', ax=axes[2], color='#467821',rot = 0, alpha=0.8).set(xlabel='Rating',ylabel='% Reviews with >60% Capitals')\n",
    "\n",
    "axes[0].set_title('Baby Products')\n",
    "axes[1].set_title('Grocery_Foods')\n",
    "axes[2].set_title('Cell Phones')\n",
    "plt.tight_layout(pad=2.0)"
   ]
  },
  {
   "cell_type": "markdown",
   "metadata": {},
   "source": [
    "From the above distribution, we can see 1 and 5 star reviews are more likely to contain >= 60% capital letters across product categories than other star ratings. \n",
    "\n",
    "####  Hypothesis Test:\n",
    "\n",
    "- __Null Hypothesis__: There is no difference between the  high % of capitals (>= 60%) for 5-star and other rated reviews.\n",
    "\n",
    "- __Alternate Hypothesis__: There is a difference between the  high % of capitals (>= 60%) for 5-star and other rated reviews."
   ]
  },
  {
   "cell_type": "markdown",
   "metadata": {},
   "source": [
    "#### Category: Baby Products"
   ]
  },
  {
   "cell_type": "code",
   "execution_count": 26,
   "metadata": {},
   "outputs": [],
   "source": [
    "many_caps_5_baby = rating_len_cap_baby[rating_len_cap_baby.rating == 5].many_caps\n",
    "many_caps_not5_baby = rating_len_cap_baby[rating_len_cap_baby.rating != 5].many_caps"
   ]
  },
  {
   "cell_type": "code",
   "execution_count": 44,
   "metadata": {},
   "outputs": [],
   "source": [
    "a = sum(many_caps_5_baby) # no. of True values i.e. no. of 5 star ratings have >= 60% capitals\n",
    "b = len(many_caps_5_baby) - sum(many_caps_5_baby) # no.of False values\n",
    "\n",
    "c = sum(many_caps_not5_baby) # no. of True values\n",
    "d = len(many_caps_not5_baby) - sum(many_caps_not5_baby) # no.of False values"
   ]
  },
  {
   "cell_type": "code",
   "execution_count": 40,
   "metadata": {},
   "outputs": [
    {
     "data": {
      "text/plain": [
       "(24.16757520288599,\n",
       " 8.830658672146921e-07,\n",
       " 1,\n",
       " array([[  157.61188084, 93282.38811916],\n",
       "        [  113.38811916, 67108.61188084]]))"
      ]
     },
     "execution_count": 40,
     "metadata": {},
     "output_type": "execute_result"
    }
   ],
   "source": [
    "# scipy.stats.chi2_contingency(observed, correction=True, lambda_=None)\n",
    "scipy.stats.chi2_contingency([[a, b], [c, d]])"
   ]
  },
  {
   "cell_type": "markdown",
   "metadata": {},
   "source": [
    "#### Category: Grocery Foods"
   ]
  },
  {
   "cell_type": "code",
   "execution_count": 41,
   "metadata": {},
   "outputs": [],
   "source": [
    "many_caps_5_food = rating_len_cap_food[rating_len_cap_food.rating == 5].many_caps\n",
    "many_caps_not5_food = rating_len_cap_food[rating_len_cap_food.rating != 5].many_caps"
   ]
  },
  {
   "cell_type": "code",
   "execution_count": 43,
   "metadata": {},
   "outputs": [
    {
     "data": {
      "text/plain": [
       "(75.81496081855633,\n",
       " 3.1153176022067793e-18,\n",
       " 1,\n",
       " array([[  454.24965906, 86843.75034094],\n",
       "        [  331.75034094, 63424.24965906]]))"
      ]
     },
     "execution_count": 43,
     "metadata": {},
     "output_type": "execute_result"
    }
   ],
   "source": [
    "a1 = sum(many_caps_5_food) # no. of True values (5-star) i.e. no. of 5 star ratings have >= 60% capitals\n",
    "b1 = len(many_caps_5_food) - sum(many_caps_5_food) # no.of False values (5-star)\n",
    "\n",
    "c1 = sum(many_caps_not5_food) # no. of True values (not 5-star)\n",
    "d1 = len(many_caps_not5_food) - sum(many_caps_not5_food) # no.of False values (not 5-star)\n",
    "\n",
    "scipy.stats.chi2_contingency([[a1, b1], [c1, d1]])"
   ]
  },
  {
   "cell_type": "markdown",
   "metadata": {},
   "source": [
    "#### Category: Cell Phone"
   ]
  },
  {
   "cell_type": "code",
   "execution_count": 45,
   "metadata": {},
   "outputs": [],
   "source": [
    "many_caps_5_phone = rating_len_cap_phone[rating_len_cap_phone.rating == 5].many_caps\n",
    "many_caps_not5_phone = rating_len_cap_phone[rating_len_cap_phone.rating != 5].many_caps"
   ]
  },
  {
   "cell_type": "code",
   "execution_count": 46,
   "metadata": {},
   "outputs": [
    {
     "data": {
      "text/plain": [
       "(15.972715104382695,\n",
       " 6.426201809562029e-05,\n",
       " 1,\n",
       " array([[   736.67003136, 107544.32996864],\n",
       "        [   582.32996864,  85012.67003136]]))"
      ]
     },
     "execution_count": 46,
     "metadata": {},
     "output_type": "execute_result"
    }
   ],
   "source": [
    "a2 = sum(many_caps_5_phone) # no. of True values (5-star) i.e. no. of 5 star ratings have >= 60% capitals\n",
    "b2 = len(many_caps_5_phone) - sum(many_caps_5_phone) # no.of False values (5-star)\n",
    "\n",
    "c2 = sum(many_caps_not5_phone) # no. of True values (not 5-star)\n",
    "d2 = len(many_caps_not5_phone) - sum(many_caps_not5_phone) # no.of False values (not 5-star)\n",
    "\n",
    "scipy.stats.chi2_contingency([[a2, b2], [c2, d2]])"
   ]
  },
  {
   "cell_type": "markdown",
   "metadata": {},
   "source": [
    "__In all of the three product categories, since p_value is less than 0.05 we reject the null hypothesis and conclude that the high % of capitals (>= 60%) for 5-star rated reviews are different from the other rated reviews.__"
   ]
  },
  {
   "cell_type": "code",
   "execution_count": null,
   "metadata": {},
   "outputs": [],
   "source": []
  },
  {
   "cell_type": "code",
   "execution_count": null,
   "metadata": {},
   "outputs": [],
   "source": []
  },
  {
   "cell_type": "code",
   "execution_count": null,
   "metadata": {},
   "outputs": [],
   "source": [
    "df_dict['Baby'] = {}\n",
    "\n",
    "df_dict['Baby']['df'] = df_baby\n",
    "\n",
    "df_dict['Baby']['not4'] = etc"
   ]
  },
  {
   "cell_type": "code",
   "execution_count": null,
   "metadata": {},
   "outputs": [],
   "source": []
  },
  {
   "cell_type": "markdown",
   "metadata": {},
   "source": [
    "### Examples of review text containing  >= 60% capitals"
   ]
  },
  {
   "cell_type": "code",
   "execution_count": 48,
   "metadata": {},
   "outputs": [
    {
     "data": {
      "text/plain": [
       "rating\n",
       "1    177\n",
       "2     58\n",
       "3    124\n",
       "4    151\n",
       "5    809\n",
       "dtype: int64"
      ]
     },
     "execution_count": 48,
     "metadata": {},
     "output_type": "execute_result"
    }
   ],
   "source": [
    "# Reviews conatining >= 60% of capitals (cell Phones)\n",
    "rev_rating_copy[rev_rating_copy.pct_capitals >=60].groupby('rating').size()"
   ]
  },
  {
   "cell_type": "code",
   "execution_count": 51,
   "metadata": {},
   "outputs": [
    {
     "data": {
      "text/plain": [
       "rating\n",
       "1    2\n",
       "5    2\n",
       "dtype: int64"
      ]
     },
     "execution_count": 51,
     "metadata": {},
     "output_type": "execute_result"
    }
   ],
   "source": [
    "rev_rating_copy[rev_rating_copy.pct_capitals >85].groupby('rating').size()"
   ]
  },
  {
   "cell_type": "code",
   "execution_count": 53,
   "metadata": {},
   "outputs": [
    {
     "data": {
      "text/plain": [
       "[\"COULDN'T DOWNLOAD ANYTHING\",\n",
       " 'EASLY BROKEN EASLY BROKEN EASLY BROKEN&#12621; EASLY BROKENEASLY BROKENEASLY BROKENEASLY BROKENEASLY BROKENEASLY BROKENEASLY BROKENEASLY BROKENEASLY BROKENEASLY BROKENEASLY BROKENEASLY BROKENEASLY BROKEN  NOT GOOD AS I THOUGHT',\n",
       " 'AMAZING SOUND, MOVIE THEATER QUALITY',\n",
       " 'GOOD CASE NO COMPLAIN']"
      ]
     },
     "execution_count": 53,
     "metadata": {},
     "output_type": "execute_result"
    }
   ],
   "source": [
    "# Example of reviews with >= 60 % capitals\n",
    "list(rev_rating_copy.reviewText[rev_rating_copy.pct_capitals >85])"
   ]
  },
  {
   "cell_type": "markdown",
   "metadata": {},
   "source": [
    "### Example of review text containing <5 words"
   ]
  },
  {
   "cell_type": "code",
   "execution_count": 62,
   "metadata": {},
   "outputs": [
    {
     "data": {
      "text/plain": [
       "rating\n",
       "1    110\n",
       "2     55\n",
       "3    117\n",
       "4    192\n",
       "5    877\n",
       "dtype: int64"
      ]
     },
     "execution_count": 62,
     "metadata": {},
     "output_type": "execute_result"
    }
   ],
   "source": [
    "rev_rating_copy[rev_rating_copy.word_count<10].groupby('rating').size()"
   ]
  },
  {
   "cell_type": "code",
   "execution_count": 60,
   "metadata": {},
   "outputs": [
    {
     "data": {
      "text/plain": [
       "['Still the best',\n",
       " 'Loved this phone',\n",
       " 'tools work fine',\n",
       " 'Great little headset.',\n",
       " 'works great on Droid',\n",
       " 'Love my headset',\n",
       " 'good cell phone',\n",
       " 'The the shit',\n",
       " 'had to have it',\n",
       " 'great quality functional case',\n",
       " 'Its almost bullet proof.',\n",
       " 'very useful, thank you',\n",
       " 'Love these earpieces.',\n",
       " 'it works for sure',\n",
       " 'Class one product.',\n",
       " 'They worked wel !!!!',\n",
       " 'perfect in my truck',\n",
       " 'I will order more.',\n",
       " 'thanks love it',\n",
       " 'Nice Case. Great Price.',\n",
       " 'love it light weight',\n",
       " 'My daughter love it',\n",
       " 'Love the print',\n",
       " 'Excellent high quality .',\n",
       " 'Love this product',\n",
       " 'went on great',\n",
       " 'works as described',\n",
       " 'Awesome LCD screen protector.',\n",
       " 'Nice screen protectors',\n",
       " 'As advertised. Nice Price.',\n",
       " 'Does what it should.',\n",
       " 'great product and price',\n",
       " 'Excellent multi-use device.',\n",
       " 'good and stable',\n",
       " 'Serves the purpose',\n",
       " 'great, shipped fast',\n",
       " 'Exactly as expected. Nice.',\n",
       " 'great for my teen',\n",
       " 'Definitely will purchase again.',\n",
       " 'Love it. As described',\n",
       " 'Good solid cable.',\n",
       " 'good quality looks great',\n",
       " 'Really good product',\n",
       " 'Love this case  :)',\n",
       " 'will purchase again',\n",
       " 'cheap and worked well',\n",
       " 'Love this one',\n",
       " 'I like h2o',\n",
       " 'good quality, fast shipping',\n",
       " 'just love it.',\n",
       " 'Absolutely love it.',\n",
       " 'good product, reasonable price',\n",
       " 'works great... as described!',\n",
       " 'My kids love it',\n",
       " 'my daughter loves it',\n",
       " 'the macro is impressive',\n",
       " 'really like it',\n",
       " 'It fit my phone',\n",
       " 'Love the Pinkness',\n",
       " 'I love the product',\n",
       " 'These are great!',\n",
       " 'WORKS LIKE CLOCK WORK...',\n",
       " 'wifes favorite case',\n",
       " 'very good phone',\n",
       " 'Nice!  Great job!',\n",
       " 'Snug fit, excellent price.',\n",
       " 'Good and useful',\n",
       " 'will probably order more.',\n",
       " 'My daughter loves them!!!',\n",
       " 'Great quality and price.',\n",
       " 'Good as expected!',\n",
       " 'Good grip. As advertised.',\n",
       " 'Very flashy love it',\n",
       " 'Works great!  Fast shipment.',\n",
       " 'It works as promised',\n",
       " 'Great sim card....',\n",
       " 'great love it',\n",
       " 'Nice and cheap.',\n",
       " 'Love the designs',\n",
       " 'The best one.',\n",
       " 'works like a champ.',\n",
       " 'really like the case',\n",
       " 'Loveeeedddd this case',\n",
       " 'Adorable! I love it',\n",
       " 'Easy to install',\n",
       " 'Really nice n classy.',\n",
       " 'life save lol',\n",
       " 'nice screen protector',\n",
       " 'Really nice n soft.',\n",
       " 'Really elegant. Nice',\n",
       " 'love it thank you',\n",
       " 'great product recommend it',\n",
       " 'works really well',\n",
       " 'fits great.love TPU Cases.',\n",
       " 'the cover looks great',\n",
       " 'It is charing will',\n",
       " 'my brother loves them',\n",
       " 'Durable, protecting, pretty.',\n",
       " 'very nice, smooth case',\n",
       " 'looks really complete, elegant',\n",
       " 'Exactly as said',\n",
       " 'fit Galaxy 3',\n",
       " 'Great for traveling.',\n",
       " 'Great screen protectors :)',\n",
       " 'Still using these :-)',\n",
       " 'Like it ,very compact',\n",
       " 'works great on phone',\n",
       " 'So far so good.',\n",
       " 'Fast shipping. As descripted!',\n",
       " 'Seems to work fine',\n",
       " 'The best ever!',\n",
       " 'Class one product',\n",
       " 'Great for the price',\n",
       " 'great screen protector',\n",
       " 'Great I love it',\n",
       " 'Fits pretty good.',\n",
       " 'best case ever',\n",
       " 'nice cover case',\n",
       " 'Original Apple ear buds...',\n",
       " 'Just as advertised.',\n",
       " 'this is awesome.',\n",
       " 'Very good product!',\n",
       " 'It works great.',\n",
       " 'always good pens',\n",
       " 'Perfect for the s3',\n",
       " 'Nice tough case',\n",
       " 'Cool.. like it',\n",
       " 'love them work good',\n",
       " 'A certified cable',\n",
       " 'Good quality cable',\n",
       " 'Cute girly affortable',\n",
       " 'Works nice & cheap',\n",
       " 'Nice cover, very durable',\n",
       " 'Awesome, worked well',\n",
       " 'Great safe case',\n",
       " 'Ver well made product!',\n",
       " 'Definitely fits ,no regrets',\n",
       " 'love the slim line',\n",
       " 'Love those pins awesome!!!!',\n",
       " 'Great hardware! Great price!',\n",
       " 'Will order again',\n",
       " 'I love it...',\n",
       " \"It's perfect for me\",\n",
       " 'Pandamini is the best',\n",
       " 'Still using RDN !!',\n",
       " 'love the colors',\n",
       " 'Very nice case.',\n",
       " 'FANTASTIC THANK YOU!!!',\n",
       " 'I love this phone',\n",
       " 'Long battery life.',\n",
       " 'Love this design',\n",
       " 'my wife love it',\n",
       " 'Got as a gift',\n",
       " 'Fast delivery great price.',\n",
       " 'Fast shipping works fine',\n",
       " 'My son loved it!',\n",
       " 'Awesome car charger',\n",
       " 'enjoy the color scheme',\n",
       " 'Protects my Samsung perfectly',\n",
       " 'I really like it.',\n",
       " 'Nice charger! As shown!',\n",
       " 'love this case.',\n",
       " 'Fit the phone perfect.',\n",
       " 'Doing the job',\n",
       " 'great case for $9',\n",
       " 'Excellent as usual',\n",
       " 'works as advertised.',\n",
       " 'Served its purpose.',\n",
       " 'Very nice case!',\n",
       " 'Perfect for my needs.',\n",
       " 'works as advertised',\n",
       " 'Easy to put on',\n",
       " 'good excellent quality',\n",
       " 'love i t',\n",
       " 'Works perfect.  LOVE',\n",
       " 'Love it awesome.',\n",
       " 'same like original',\n",
       " 'Worked really well.',\n",
       " 'Excellent charger adapter.',\n",
       " 'Very nice quality battery',\n",
       " 'Works as it should',\n",
       " 'this defender looks great',\n",
       " 'Awesome external battery',\n",
       " 'Very nice case',\n",
       " 'worked perfect for me',\n",
       " 'Just as pictured',\n",
       " 'Perfect for motorcycle riders.',\n",
       " 'Works as listed.',\n",
       " 'Very tough case.',\n",
       " 'These are awesome',\n",
       " 'great stylus and pen',\n",
       " 'looks good, protects good',\n",
       " 'Great sound quality',\n",
       " 'durable and excellent',\n",
       " 'kids loved it',\n",
       " 'works better than samsung',\n",
       " 'Just what I wanted',\n",
       " 'Good phone !',\n",
       " 'Works great underwater!',\n",
       " 'Waterproof it is!',\n",
       " 'quick and easy',\n",
       " 'Got as a gify',\n",
       " 'Excellent screen Protector!',\n",
       " 'Fit perfect looks good.',\n",
       " 'Neat design & finish',\n",
       " 'My daughter loves this.',\n",
       " 'this was a gift',\n",
       " 'comes in handy',\n",
       " 'very ellegant, good quality',\n",
       " 'Great deviceNeed more apps',\n",
       " 'LOVE MY PROTECTION...',\n",
       " 'Beautifully designed and functional.',\n",
       " 'Nice solid case',\n",
       " 'I love this case!',\n",
       " 'it works good',\n",
       " 'My fiance loves it...',\n",
       " 'Great screen protector!',\n",
       " 'Look slim good .',\n",
       " 'Nice high quality case....',\n",
       " 'wife loves it',\n",
       " 'Love the protection.',\n",
       " 'just like original',\n",
       " 'great fit and performer',\n",
       " 'nice and rough',\n",
       " 'We good I love',\n",
       " 'it was great',\n",
       " 'Good case. Buy it',\n",
       " 'Nice phone case',\n",
       " 'nice and durable',\n",
       " 'Always good to have',\n",
       " 'Love this case',\n",
       " 'High quality cable!',\n",
       " 'Went right on',\n",
       " 'It works great',\n",
       " 'heavy cable, fit well.',\n",
       " 'Nice and colorful',\n",
       " 'this is great',\n",
       " 'Good great price',\n",
       " 'Works wonderfully fast charging',\n",
       " 'Good product. ..',\n",
       " 'perfect. works great.',\n",
       " 'Best Deal. Great Phone.',\n",
       " 'Great charger. Works well',\n",
       " 'exactly what i needed',\n",
       " 'just what i needed',\n",
       " 'Very good quality.',\n",
       " 'Really nice to have',\n",
       " 'works good.  not issues',\n",
       " 'daughter loves it',\n",
       " 'Good for price.',\n",
       " 'Worth the wait.',\n",
       " 'Works great thanks',\n",
       " 'Excelent Phone !',\n",
       " 'is a good phone',\n",
       " 'Really good protector',\n",
       " 'Great quality !',\n",
       " 'Received and works great.',\n",
       " 'Obviously, it works.',\n",
       " 'Very fast charger!!',\n",
       " 'I like this product',\n",
       " 'Good chords, work good',\n",
       " 'Thin profile, fits well.',\n",
       " 'My husband loves this.',\n",
       " 'needed extra one...great!',\n",
       " 'This case is awesome',\n",
       " 'super convenient case',\n",
       " 'Great..fit is perfect.',\n",
       " 'Great for the price!',\n",
       " 'They fit really good',\n",
       " 'Really love this case.',\n",
       " 'Love it!! Fits great!!',\n",
       " 'Great Phone so far.',\n",
       " 'Works very well',\n",
       " 'love it thanks',\n",
       " 'Good convenient product.',\n",
       " 'Great hardware! Nice watch!',\n",
       " 'cute  i liked it',\n",
       " 'Nice looking case',\n",
       " 'Everything works fine',\n",
       " 'Nice case. Pretty sturdy',\n",
       " 'Very good protecion',\n",
       " 'Works well. No complaints',\n",
       " 'Love the key holder!',\n",
       " 'Works well. Great value',\n",
       " 'GOOD CASE NO COMPLAIN']"
      ]
     },
     "execution_count": 60,
     "metadata": {},
     "output_type": "execute_result"
    }
   ],
   "source": [
    "list(rev_rating_copy.reviewText[(rev_rating_copy.word_count<5)& (rev_rating_copy.rating ==5)])"
   ]
  },
  {
   "cell_type": "code",
   "execution_count": null,
   "metadata": {},
   "outputs": [],
   "source": []
  }
 ],
 "metadata": {
  "kernelspec": {
   "display_name": "Python 3",
   "language": "python",
   "name": "python3"
  },
  "language_info": {
   "codemirror_mode": {
    "name": "ipython",
    "version": 3
   },
   "file_extension": ".py",
   "mimetype": "text/x-python",
   "name": "python",
   "nbconvert_exporter": "python",
   "pygments_lexer": "ipython3",
   "version": "3.7.6"
  }
 },
 "nbformat": 4,
 "nbformat_minor": 4
}
