{
 "cells": [
  {
   "cell_type": "code",
   "execution_count": null,
   "metadata": {
    "_cell_guid": "b1076dfc-b9ad-4769-8c92-a6c4dae69d19",
    "_uuid": "8f2839f25d086af736a60e9eeb907d3b93b6e0e5"
   },
   "outputs": [],
   "source": [
    "# This Python 3 environment comes with many helpful analytics libraries installed\n",
    "# It is defined by the kaggle/python Docker image: https://github.com/kaggle/docker-python\n",
    "# For example, here's several helpful packages to load\n",
    "\n",
    "import numpy as np # linear algebra\n",
    "import pandas as pd # data processing, CSV file I/O (e.g. pd.read_csv)\n",
    "\n",
    "# Input data files are available in the read-only \"../input/\" directory\n",
    "# For example, running this (by clicking run or pressing Shift+Enter) will list all files under the input directory\n",
    "\n",
    "import os\n",
    "for dirname, _, filenames in os.walk('/kaggle/input'):\n",
    "    for filename in filenames:\n",
    "        print(os.path.join(dirname, filename))\n",
    "\n",
    "# You can write up to 5GB to the current directory (/kaggle/working/) that gets preserved as output when you create a version using \"Save & Run All\" \n",
    "# You can also write temporary files to /kaggle/temp/, but they won't be saved outside of the current session"
   ]
  },
  {
   "cell_type": "code",
   "execution_count": 25,
   "metadata": {
    "_cell_guid": "79c7e3d0-c299-4dcb-8224-4455121ee9b0",
    "_uuid": "d629ff2d2480ee46fbb7e2d37f6b5fab8052498a"
   },
   "outputs": [],
   "source": [
    "#General packages\n",
    "import pandas as pd\n",
    "import numpy as np\n",
    "import pickle\n",
    "import scipy.stats\n",
    "from scipy.stats import norm\n",
    "import scipy as sp\n",
    "\n",
    "#Visualization packages\n",
    "import seaborn as sns\n",
    "import matplotlib.pyplot as plt\n",
    "# Build figures inline\n",
    "%matplotlib inline\n",
    "\n",
    "#NLP packages\n",
    "import re\n",
    "import nltk\n",
    "from wordcloud import WordCloud\n",
    "\n",
    "#Text preprocessing packages\n",
    "from nltk.tokenize import word_tokenize \n",
    "from nltk.corpus import stopwords\n",
    "from nltk.stem import WordNetLemmatizer\n",
    "\n",
    "# Import scikit-learn tools, vectorizers, transformer, and classifiers\n",
    "from sklearn.model_selection import train_test_split\n",
    "from sklearn import metrics\n",
    "from sklearn.metrics import roc_curve\n",
    "from sklearn.metrics import precision_recall_curve\n",
    "from sklearn.metrics import balanced_accuracy_score\n",
    "from sklearn.metrics import accuracy_score\n",
    "\n",
    "# import CountVectorizer and TfidfVectorizer\n",
    "from sklearn.feature_extraction.text import CountVectorizer, TfidfVectorizer\n",
    "\n",
    "#Classification Models\n",
    "from sklearn.linear_model import LogisticRegression\n",
    "from sklearn.naive_bayes import MultinomialNB\n",
    "from sklearn.svm import SVC\n",
    "from sklearn.ensemble import RandomForestClassifier\n",
    "\n",
    "#Cross validation packages for hyperparameter tuning\n",
    "from sklearn.model_selection import GridSearchCV"
   ]
  },
  {
   "cell_type": "code",
   "execution_count": 26,
   "metadata": {},
   "outputs": [
    {
     "data": {
      "text/html": [
       "<div>\n",
       "<style scoped>\n",
       "    .dataframe tbody tr th:only-of-type {\n",
       "        vertical-align: middle;\n",
       "    }\n",
       "\n",
       "    .dataframe tbody tr th {\n",
       "        vertical-align: top;\n",
       "    }\n",
       "\n",
       "    .dataframe thead th {\n",
       "        text-align: right;\n",
       "    }\n",
       "</style>\n",
       "<table border=\"1\" class=\"dataframe\">\n",
       "  <thead>\n",
       "    <tr style=\"text-align: right;\">\n",
       "      <th></th>\n",
       "      <th>reviewText</th>\n",
       "      <th>rating</th>\n",
       "      <th>review_summary</th>\n",
       "    </tr>\n",
       "  </thead>\n",
       "  <tbody>\n",
       "    <tr>\n",
       "      <th>0</th>\n",
       "      <td>They look good and stick good! I just don't li...</td>\n",
       "      <td>4</td>\n",
       "      <td>Looks Good</td>\n",
       "    </tr>\n",
       "    <tr>\n",
       "      <th>1</th>\n",
       "      <td>These stickers work like the review says they ...</td>\n",
       "      <td>5</td>\n",
       "      <td>Really great product.</td>\n",
       "    </tr>\n",
       "  </tbody>\n",
       "</table>\n",
       "</div>"
      ],
      "text/plain": [
       "                                          reviewText  rating  \\\n",
       "0  They look good and stick good! I just don't li...       4   \n",
       "1  These stickers work like the review says they ...       5   \n",
       "\n",
       "          review_summary  \n",
       "0             Looks Good  \n",
       "1  Really great product.  "
      ]
     },
     "execution_count": 26,
     "metadata": {},
     "output_type": "execute_result"
    }
   ],
   "source": [
    "#load pickled files to DataFrame\n",
    "cell_phones = pd.read_pickle('../input/amazon-dataset-food/cell_phones_stats.pkl')\n",
    "cell_phones.head(2)"
   ]
  },
  {
   "cell_type": "code",
   "execution_count": 27,
   "metadata": {},
   "outputs": [
    {
     "data": {
      "text/html": [
       "<div>\n",
       "<style scoped>\n",
       "    .dataframe tbody tr th:only-of-type {\n",
       "        vertical-align: middle;\n",
       "    }\n",
       "\n",
       "    .dataframe tbody tr th {\n",
       "        vertical-align: top;\n",
       "    }\n",
       "\n",
       "    .dataframe thead th {\n",
       "        text-align: right;\n",
       "    }\n",
       "</style>\n",
       "<table border=\"1\" class=\"dataframe\">\n",
       "  <thead>\n",
       "    <tr style=\"text-align: right;\">\n",
       "      <th></th>\n",
       "      <th>reviewText</th>\n",
       "      <th>rating</th>\n",
       "      <th>review_summary</th>\n",
       "      <th>label_phone</th>\n",
       "    </tr>\n",
       "  </thead>\n",
       "  <tbody>\n",
       "    <tr>\n",
       "      <th>0</th>\n",
       "      <td>They look good and stick good! I just don't li...</td>\n",
       "      <td>4</td>\n",
       "      <td>Looks Good</td>\n",
       "      <td>0</td>\n",
       "    </tr>\n",
       "    <tr>\n",
       "      <th>1</th>\n",
       "      <td>These stickers work like the review says they ...</td>\n",
       "      <td>5</td>\n",
       "      <td>Really great product.</td>\n",
       "      <td>1</td>\n",
       "    </tr>\n",
       "  </tbody>\n",
       "</table>\n",
       "</div>"
      ],
      "text/plain": [
       "                                          reviewText  rating  \\\n",
       "0  They look good and stick good! I just don't li...       4   \n",
       "1  These stickers work like the review says they ...       5   \n",
       "\n",
       "          review_summary  label_phone  \n",
       "0             Looks Good            0  \n",
       "1  Really great product.            1  "
      ]
     },
     "execution_count": 27,
     "metadata": {},
     "output_type": "execute_result"
    }
   ],
   "source": [
    "# Labeling the dataset\n",
    "# label: 1 = high rating (rating = 5), label: 0 = low rating (not5)\n",
    "\n",
    "def label_func(rating):\n",
    "    if rating == 5:\n",
    "        return 1\n",
    "    else:\n",
    "        return 0\n",
    "\n",
    "cell_phones['label_phone'] = cell_phones['rating'].apply(label_func)    # labeling cell_phones dataset\n",
    "cell_phones.head(2)"
   ]
  },
  {
   "cell_type": "markdown",
   "metadata": {},
   "source": [
    "### Text Pre-Processing to reduce document dimension\n",
    "\n",
    "- Remove URL.\n",
    "- Remove numbers and Punctuation\n",
    "- Convert all characters into lowercase\n",
    "- Tokenization\n",
    "- Remove Stopwords\n",
    "- Lemmatization\n",
    "- convert list of tokens back into the string"
   ]
  },
  {
   "cell_type": "code",
   "execution_count": 28,
   "metadata": {},
   "outputs": [
    {
     "data": {
      "text/html": [
       "<div>\n",
       "<style scoped>\n",
       "    .dataframe tbody tr th:only-of-type {\n",
       "        vertical-align: middle;\n",
       "    }\n",
       "\n",
       "    .dataframe tbody tr th {\n",
       "        vertical-align: top;\n",
       "    }\n",
       "\n",
       "    .dataframe thead th {\n",
       "        text-align: right;\n",
       "    }\n",
       "</style>\n",
       "<table border=\"1\" class=\"dataframe\">\n",
       "  <thead>\n",
       "    <tr style=\"text-align: right;\">\n",
       "      <th></th>\n",
       "      <th>reviewText</th>\n",
       "      <th>rating</th>\n",
       "      <th>review_summary</th>\n",
       "      <th>label_phone</th>\n",
       "      <th>clean_review_phone</th>\n",
       "    </tr>\n",
       "  </thead>\n",
       "  <tbody>\n",
       "    <tr>\n",
       "      <th>0</th>\n",
       "      <td>They look good and stick good! I just don't li...</td>\n",
       "      <td>4</td>\n",
       "      <td>Looks Good</td>\n",
       "      <td>0</td>\n",
       "      <td>they look good and stick good ! i just don ' t...</td>\n",
       "    </tr>\n",
       "    <tr>\n",
       "      <th>1</th>\n",
       "      <td>These stickers work like the review says they ...</td>\n",
       "      <td>5</td>\n",
       "      <td>Really great product.</td>\n",
       "      <td>1</td>\n",
       "      <td>these stickers work like the review they do . ...</td>\n",
       "    </tr>\n",
       "  </tbody>\n",
       "</table>\n",
       "</div>"
      ],
      "text/plain": [
       "                                          reviewText  rating  \\\n",
       "0  They look good and stick good! I just don't li...       4   \n",
       "1  These stickers work like the review says they ...       5   \n",
       "\n",
       "          review_summary  label_phone  \\\n",
       "0             Looks Good            0   \n",
       "1  Really great product.            1   \n",
       "\n",
       "                                  clean_review_phone  \n",
       "0  they look good and stick good ! i just don ' t...  \n",
       "1  these stickers work like the review they do . ...  "
      ]
     },
     "execution_count": 28,
     "metadata": {},
     "output_type": "execute_result"
    }
   ],
   "source": [
    "# Remove non-English using NLTK\n",
    "\n",
    "words = set(nltk.corpus.words.words())\n",
    "\n",
    "def remove_non_en(text):\n",
    "    text = \" \".join(w.lower() for w in nltk.wordpunct_tokenize(text) if w.lower() in words or not w.isalpha())\n",
    "    return text\n",
    "\n",
    "cell_phones['clean_review_phone'] = cell_phones['reviewText'].apply(lambda x: remove_non_en(x)) # cell_phones dataset\n",
    "\n",
    "cell_phones.head(2)"
   ]
  },
  {
   "cell_type": "code",
   "execution_count": 29,
   "metadata": {},
   "outputs": [
    {
     "data": {
      "text/html": [
       "<div>\n",
       "<style scoped>\n",
       "    .dataframe tbody tr th:only-of-type {\n",
       "        vertical-align: middle;\n",
       "    }\n",
       "\n",
       "    .dataframe tbody tr th {\n",
       "        vertical-align: top;\n",
       "    }\n",
       "\n",
       "    .dataframe thead th {\n",
       "        text-align: right;\n",
       "    }\n",
       "</style>\n",
       "<table border=\"1\" class=\"dataframe\">\n",
       "  <thead>\n",
       "    <tr style=\"text-align: right;\">\n",
       "      <th></th>\n",
       "      <th>reviewText</th>\n",
       "      <th>rating</th>\n",
       "      <th>review_summary</th>\n",
       "      <th>label_phone</th>\n",
       "      <th>clean_review_phone</th>\n",
       "    </tr>\n",
       "  </thead>\n",
       "  <tbody>\n",
       "    <tr>\n",
       "      <th>0</th>\n",
       "      <td>They look good and stick good! I just don't li...</td>\n",
       "      <td>4</td>\n",
       "      <td>Looks Good</td>\n",
       "      <td>0</td>\n",
       "      <td>look good stick good like round shape always b...</td>\n",
       "    </tr>\n",
       "    <tr>\n",
       "      <th>1</th>\n",
       "      <td>These stickers work like the review says they ...</td>\n",
       "      <td>5</td>\n",
       "      <td>Really great product.</td>\n",
       "      <td>1</td>\n",
       "      <td>stickers work like review stick great stay pho...</td>\n",
       "    </tr>\n",
       "  </tbody>\n",
       "</table>\n",
       "</div>"
      ],
      "text/plain": [
       "                                          reviewText  rating  \\\n",
       "0  They look good and stick good! I just don't li...       4   \n",
       "1  These stickers work like the review says they ...       5   \n",
       "\n",
       "          review_summary  label_phone  \\\n",
       "0             Looks Good            0   \n",
       "1  Really great product.            1   \n",
       "\n",
       "                                  clean_review_phone  \n",
       "0  look good stick good like round shape always b...  \n",
       "1  stickers work like review stick great stay pho...  "
      ]
     },
     "execution_count": 29,
     "metadata": {},
     "output_type": "execute_result"
    }
   ],
   "source": [
    "# Preprocessing\n",
    "stop_words = set(stopwords.words('english'))\n",
    "lemma = WordNetLemmatizer()\n",
    "\n",
    "def text_preprocessing(review):\n",
    "    review = re.sub(r'http\\S+', '', review)   # removing URL\n",
    "    review = re.sub('[^a-zA-Z]', ' ', review) # keep only alpha (removing numbers and punctions)\n",
    "    review = str(review).lower()              # Lowercase all text\n",
    "    review = word_tokenize(review)            # Tokenization\n",
    "    review = [w for w in review if w not in stop_words] # Removing Stopwords\n",
    "    review = [lemma.lemmatize(word=w, pos='v') for w in review] # Lemmatization\n",
    "    review = ' '.join(review)\n",
    "    return review\n",
    "\n",
    "cell_phones['clean_review_phone'] = cell_phones['clean_review_phone'].apply(text_preprocessing) # cell_phones preprocessing\n",
    "cell_phones.head(2)"
   ]
  },
  {
   "cell_type": "markdown",
   "metadata": {},
   "source": [
    "## Machine Learning on Cell_phones Dataset"
   ]
  },
  {
   "cell_type": "markdown",
   "metadata": {},
   "source": [
    "### Create X and y, split train and test data sets"
   ]
  },
  {
   "cell_type": "code",
   "execution_count": 32,
   "metadata": {},
   "outputs": [
    {
     "name": "stdout",
     "output_type": "stream",
     "text": [
      "(193876,)\n",
      "(193876,)\n"
     ]
    }
   ],
   "source": [
    "# store the feature matrix (X) and response vector (y) of dataset\n",
    "# uppercase X because it's an m x n matrix\n",
    "# lowercase y because it's a m x 1 vector\n",
    "\n",
    "X_phone = cell_phones.clean_review_phone\n",
    "y_phone = cell_phones.label_phone\n",
    "\n",
    "print(X_phone.shape)\n",
    "print(y_phone.shape)"
   ]
  },
  {
   "cell_type": "code",
   "execution_count": 33,
   "metadata": {},
   "outputs": [
    {
     "name": "stdout",
     "output_type": "stream",
     "text": [
      "X Training set sample size: 135713\n",
      "X Testing set sample size: 58163\n",
      "y Training set sample size: 135713\n",
      "y Testing set sample size: 58163\n"
     ]
    }
   ],
   "source": [
    "# split the data into training and test sets\n",
    "X_train_phone, X_test_phone, y_train_phone, y_test_phone = train_test_split(X_phone, y_phone, random_state=42, test_size=0.3)\n",
    "\n",
    "# Show the results of the split\n",
    "print(\"X Training set sample size:\", (X_train_phone.shape[0]))\n",
    "print(\"X Testing set sample size:\", (X_test_phone.shape[0]))\n",
    "print(\"y Training set sample size:\", (y_train_phone.shape[0]))\n",
    "print(\"y Testing set sample size:\", (y_test_phone.shape[0]))"
   ]
  },
  {
   "cell_type": "markdown",
   "metadata": {},
   "source": [
    "### Vectorize, fit, create document-term matrix with two vectorizers"
   ]
  },
  {
   "cell_type": "code",
   "execution_count": 34,
   "metadata": {},
   "outputs": [],
   "source": [
    "# Instantiate CountVectorizer and TfidfVectorizer\n",
    "vect = CountVectorizer(min_df=1, ngram_range=(1, 2)) \n",
    "tfidf = TfidfVectorizer(min_df=1, ngram_range=(1, 2))"
   ]
  },
  {
   "cell_type": "code",
   "execution_count": 35,
   "metadata": {},
   "outputs": [
    {
     "data": {
      "text/plain": [
       "<135713x1120531 sparse matrix of type '<class 'numpy.int64'>'\n",
       "\twith 8518350 stored elements in Compressed Sparse Row format>"
      ]
     },
     "execution_count": 35,
     "metadata": {},
     "output_type": "execute_result"
    }
   ],
   "source": [
    "# Apply CountVectorizer to learn training data vocabulary, then use it to create a document-term matrix\n",
    "X_train_dtm = vect.fit_transform(X_train_phone)\n",
    "\n",
    "# examine the document-term matrix\n",
    "X_train_dtm"
   ]
  },
  {
   "cell_type": "code",
   "execution_count": 36,
   "metadata": {},
   "outputs": [
    {
     "data": {
      "text/plain": [
       "<58163x1120531 sparse matrix of type '<class 'numpy.int64'>'\n",
       "\twith 3367346 stored elements in Compressed Sparse Row format>"
      ]
     },
     "execution_count": 36,
     "metadata": {},
     "output_type": "execute_result"
    }
   ],
   "source": [
    "# transform testing data (using fitted vocabulary) into a document-term matrix\n",
    "X_test_dtm = vect.transform(X_test_phone)\n",
    "X_test_dtm"
   ]
  },
  {
   "cell_type": "code",
   "execution_count": 37,
   "metadata": {},
   "outputs": [
    {
     "data": {
      "text/plain": [
       "<58163x1120531 sparse matrix of type '<class 'numpy.float64'>'\n",
       "\twith 3367346 stored elements in Compressed Sparse Row format>"
      ]
     },
     "execution_count": 37,
     "metadata": {},
     "output_type": "execute_result"
    }
   ],
   "source": [
    "# Apply TfidfVectorizer to learn training data vocabulary,then use it to create a document-term matrix\n",
    "X_train_tfidf_phone = tfidf.fit_transform(X_train_phone)\n",
    "\n",
    "# transform testing data with tfidif vectorizer into document-term matrix\n",
    "X_test_tfidf_phone = tfidf.transform(X_test_phone)\n",
    "X_test_tfidf_phone"
   ]
  },
  {
   "cell_type": "markdown",
   "metadata": {},
   "source": [
    "### Build baseline model with Naive Bayes and compare vectorizers"
   ]
  },
  {
   "cell_type": "code",
   "execution_count": 38,
   "metadata": {},
   "outputs": [
    {
     "name": "stdout",
     "output_type": "stream",
     "text": [
      "CountVectorizer(ngram_range=(1, 2))\n",
      "\n",
      "F1 Score:  0.794228576440663\n",
      "\n",
      "Confusion Matrix:\n",
      " [[16922  8618]\n",
      " [ 5458 27165]]\n",
      "\n",
      "AUC:  0.7476316222747469\n"
     ]
    }
   ],
   "source": [
    "# Instantiate MultinomialNB() classifier for CountVectorizer\n",
    "nb = MultinomialNB(alpha=1, fit_prior=True)\n",
    "\n",
    "# Train model\n",
    "nb.fit(X_train_dtm, y_train_phone)\n",
    "\n",
    "# Make class predictions for X_test_dtm\n",
    "y_pred_class = nb.predict(X_test_dtm)\n",
    "\n",
    "# Calculate F1 Score\n",
    "f1 = metrics.f1_score(y_test_phone, y_pred_class)\n",
    "\n",
    "# Confusion matrix\n",
    "cm = metrics.confusion_matrix(y_test_phone, y_pred_class)\n",
    "\n",
    "# Calculate predicted probabilities for X_test_dtm\n",
    "y_pred_prob = nb.predict_proba(X_test_dtm)[:,1]\n",
    "\n",
    "# Calculate AUC for Naive Bayes model with CountVec\n",
    "auc = metrics.roc_auc_score(y_test_phone, y_pred_class)\n",
    "\n",
    "print(vect)\n",
    "print('\\nF1 Score: ', f1)\n",
    "print('\\nConfusion Matrix:\\n', cm)\n",
    "print('\\nAUC: ', auc)"
   ]
  },
  {
   "cell_type": "markdown",
   "metadata": {},
   "source": [
    "From the confusion matrix we can see, using CountVectorizer, at baseline the Naive Bayes model 27165 reviews were correctly predicted as 'five' (positive) rated (TP) and 16922 were correctly predicted as 'not5' (negative) rated (TN).\n",
    "However, 8618 reviews were incorrectly predicted to be 'five' (positive) ratings (FP:Type I error) and 5458 reviews were incorrectly predicted to be 'not5' (negative) ratings (FN: Type II error). \n",
    "\n",
    "Let's compare it with the TfidfVectorizer."
   ]
  },
  {
   "cell_type": "code",
   "execution_count": 39,
   "metadata": {},
   "outputs": [
    {
     "name": "stdout",
     "output_type": "stream",
     "text": [
      "TfidfVectorizer(ngram_range=(1, 2))\n",
      "\n",
      "F1 Score:  0.7931214705469936\n",
      "\n",
      "Confusion Matrix:\n",
      " [[10825 14715]\n",
      " [ 1514 31109]]\n",
      "\n",
      "AUC:  0.8333676713809655\n"
     ]
    }
   ],
   "source": [
    "# COMPARE TFIDF VECTORIZER\n",
    "\n",
    "# instantiate MultinomialNB() classifier to use on tfidf vectors\n",
    "nb_tfidf = MultinomialNB(alpha=1, fit_prior=True)\n",
    "\n",
    "# train the model \n",
    "nb_tfidf.fit(X_train_tfidf_phone, y_train_phone)\n",
    "\n",
    "# Make class predictions for X_test_tidf_baby\n",
    "y_pred_tfidf = nb_tfidf.predict(X_test_tfidf_phone)\n",
    "\n",
    "# Calculate F1 Score\n",
    "f1 = metrics.f1_score(y_test_phone, y_pred_tfidf)\n",
    "\n",
    "# Confusion matrix\n",
    "cm = metrics.confusion_matrix(y_test_phone, y_pred_tfidf)\n",
    "\n",
    "# Calculate predicted probabilities for Xtest1\n",
    "y_prob_tfidf = nb_tfidf.predict_proba(X_test_tfidf_phone)[:,1]\n",
    "\n",
    "# Calculate AUC for Naive Bayes model with Tfidf\n",
    "auc = metrics.roc_auc_score(y_test_phone, y_prob_tfidf)\n",
    "\n",
    "print(tfidf)\n",
    "print('\\nF1 Score: ', f1)\n",
    "print('\\nConfusion Matrix:\\n', cm)\n",
    "print('\\nAUC: ', auc)"
   ]
  },
  {
   "cell_type": "markdown",
   "metadata": {},
   "source": [
    "From the confusion matrix we can see, using TFIDF Vectorizer, at baseline the Naive Bayes model 31109 reviews were correctly predicted as 'five' (positive) ratings (TP) and 10825 were correctly predicted as 'not5' (negative) ratings (TN). However, 14715 reviews were incorrectly predicted to be 'five' (positive) ratings (FP) and 1514 reviews were incorrectly predicted to be 'not5' (negative) ratings but they are 'five'(FN).\n",
    "\n",
    "The TfidfVectorizer with default settings did better in predicting high ratings ('five') but did poorly for low ones ('not5'). Parameters definitely need to be tuned."
   ]
  },
  {
   "cell_type": "markdown",
   "metadata": {},
   "source": [
    "### Picking Hyperparameters\n",
    "\n",
    "I want to look at the __alpha__ and __min_df__ to see if I can make the model better.\n",
    "\n",
    "#### min_df:"
   ]
  },
  {
   "cell_type": "code",
   "execution_count": 40,
   "metadata": {},
   "outputs": [
    {
     "data": {
      "image/png": "[encoded data removed]",
      "text/plain": [
       "<Figure size 720x576 with 1 Axes>"
      ]
     },
     "metadata": {
      "needs_background": "light"
     },
     "output_type": "display_data"
    }
   ],
   "source": [
    "vectorizer = CountVectorizer()\n",
    "X = vectorizer.fit_transform(X_train_phone) \n",
    "X = X.tocsc() \n",
    "\n",
    "\n",
    "#  to get a count of documents in which a word has appeared, sum it across rows\n",
    "df = np.sum(X>0,axis=0).tolist()[0]\n",
    "\n",
    "x_df = np.sort(df)\n",
    "y_df = np.arange(1, len(df) + 1)/len(df)\n",
    "\n",
    "fig, ax = plt.subplots(figsize=(10,8))\n",
    "_ = plt.plot(x_df, y_df)\n",
    "_ = plt.xlim([0,30])\n",
    "_ = plt.ylim([0, .8])\n",
    "_ = plt.xticks([x for x in range(0,62,5)])\n",
    "_ = plt.title('Cumulative Dist. of Document Frequencies(df)')\n",
    "_ = plt.xlabel('Document Frequency Count')\n",
    "_ = plt.ylabel('% Words Appearing less than x(i)')\n",
    "\n",
    "plt.show()"
   ]
  },
  {
   "cell_type": "code",
   "execution_count": 41,
   "metadata": {},
   "outputs": [
    {
     "name": "stdout",
     "output_type": "stream",
     "text": [
      "AUC: 0.609668308874328, Min_df: 0.1, F1: 0.686109\n",
      "AUC: 0.7476316222747469, Min_df: 1, F1: 0.794229\n",
      "AUC: 0.7488843590108022, Min_df: 2, F1: 0.787748\n",
      "AUC: 0.7495905982805248, Min_df: 3, F1: 0.786357\n",
      "AUC: 0.7501324611576053, Min_df: 4, F1: 0.786117\n",
      "AUC: 0.7496358363843929, Min_df: 5, F1: 0.785165\n",
      "\n",
      " Best Values: \n",
      " Min_df: 4, AUC: 0.7501324611576053, F1: 0.786117\n"
     ]
    }
   ],
   "source": [
    "# best min_df for CountVectorizer\n",
    "\n",
    "values_dict = {}\n",
    "pos_df = [.1, 1, 2, 3, 4, 5]\n",
    "\n",
    "for min_df in pos_df:\n",
    "    vect = CountVectorizer(min_df=min_df, ngram_range=(1, 2)) \n",
    "    X_train_dtm = vect.fit_transform(X_train_phone)\n",
    "    X_test_dtm = vect.transform(X_test_phone)\n",
    "    nb = MultinomialNB(alpha=1, fit_prior=True)\n",
    "    nb.fit(X_train_dtm, y_train_phone)\n",
    "    y_pred_class = nb.predict(X_test_dtm)\n",
    "    f1 = metrics.f1_score(y_test_phone, y_pred_class)\n",
    "    y_pred_prob = nb.predict_proba(X_test_dtm)[:,1]\n",
    "    auc = metrics.roc_auc_score(y_test_phone, y_pred_class)\n",
    "    values_dict[auc] = [f1, min_df]\n",
    "    print(\"AUC: {}, Min_df: {}, F1: {:4f}\".format(auc, min_df, f1))\n",
    "    \n",
    "best_auc = max(values_dict.keys())\n",
    "best_f1 = values_dict[max(values_dict.keys())][0]\n",
    "best_min_df = values_dict[max(values_dict.keys())][1]\n",
    "print('\\n Best Values: \\n Min_df: {}, AUC: {}, F1: {:4f}'.format(best_min_df, best_auc, best_f1))"
   ]
  },
  {
   "cell_type": "code",
   "execution_count": 42,
   "metadata": {},
   "outputs": [
    {
     "name": "stdout",
     "output_type": "stream",
     "text": [
      "AUC: 0.673551596942753, Min_df: 0.1, F1: 0.717621\n",
      "AUC: 0.8333676713809655, Min_df: 1, F1: 0.793121\n",
      "AUC: 0.8344130878112019, Min_df: 2, F1: 0.802034\n",
      "AUC: 0.8338085628630214, Min_df: 3, F1: 0.802596\n",
      "AUC: 0.832852292814057, Min_df: 4, F1: 0.802350\n",
      "AUC: 0.8323811081731974, Min_df: 5, F1: 0.800929\n",
      "\n",
      " Best Values: \n",
      " Min_df: 2, AUC: 0.8344130878112019, F1: 0.802034\n"
     ]
    }
   ],
   "source": [
    "# best min_df for TfidfVectorizer\n",
    "values_dict = {}\n",
    "pos_df = [.1, 1, 2, 3, 4, 5]\n",
    "\n",
    "for min_df in pos_df:\n",
    "    tfidf = TfidfVectorizer(min_df=min_df, ngram_range=(1, 2)) \n",
    "    X_train_tfidf_phone = tfidf.fit_transform(X_train_phone)\n",
    "    X_test_tfidf_phone = tfidf.transform(X_test_phone)\n",
    "    nb_tfidf = MultinomialNB(alpha=1, fit_prior=True)\n",
    "    nb_tfidf.fit(X_train_tfidf_phone, y_train_phone)\n",
    "    y_pred_tfidf = nb_tfidf.predict(X_test_tfidf_phone)\n",
    "    f1 = metrics.f1_score(y_test_phone, y_pred_tfidf)\n",
    "    y_prob_tfidf = nb_tfidf.predict_proba(X_test_tfidf_phone)[:,1]\n",
    "    auc = metrics.roc_auc_score(y_test_phone, y_prob_tfidf)\n",
    "    values_dict[auc] = [f1, min_df]\n",
    "    print(\"AUC: {}, Min_df: {}, F1: {:4f}\".format(auc, min_df, f1))\n",
    "\n",
    "best_auc = max(values_dict.keys())\n",
    "best_f1 = values_dict[max(values_dict.keys())][0]\n",
    "best_min_df = values_dict[max(values_dict.keys())][1]\n",
    "print('\\n Best Values: \\n Min_df: {}, AUC: {}, F1: {:4f}'.format(best_min_df, best_auc, best_f1))"
   ]
  },
  {
   "cell_type": "markdown",
   "metadata": {},
   "source": [
    "Best min_df for CountVectorizer is 4 and for TfidfVectorizer is 2.\n",
    "\n",
    "\n",
    "__Because of the computing limitation of my PC I will increase the min_df to 50 for both Vectorizers.__\n",
    "\n",
    "### GridSearchCV\n",
    "\n",
    "__Run GridSearchCV on best parameters for CountVectorizer__"
   ]
  },
  {
   "cell_type": "code",
   "execution_count": 43,
   "metadata": {},
   "outputs": [
    {
     "data": {
      "text/plain": [
       "['alpha', 'class_prior', 'fit_prior']"
      ]
     },
     "execution_count": 43,
     "metadata": {},
     "output_type": "execute_result"
    }
   ],
   "source": [
    "# run this to get a list of the all available pipe-items unique keys for the grid parameters\n",
    "sorted(nb.get_params().keys())"
   ]
  },
  {
   "cell_type": "code",
   "execution_count": 44,
   "metadata": {},
   "outputs": [],
   "source": [
    "# Create a list of parameters for tuning\n",
    "parameters = {'alpha': (0.001, 0.01, 0.1, 1, 5, 10)}"
   ]
  },
  {
   "cell_type": "code",
   "execution_count": 45,
   "metadata": {},
   "outputs": [
    {
     "name": "stdout",
     "output_type": "stream",
     "text": [
      "GridSearchCV(cv=5, estimator=MultinomialNB(),\n",
      "             param_grid={'alpha': (0.001, 0.01, 0.1, 1, 5, 10)},\n",
      "             scoring='roc_auc')\n",
      "\n",
      "Best Score:  0.8016736385988887\n",
      "Best parameters: {'alpha': 0.001}\n"
     ]
    }
   ],
   "source": [
    "# Instantiate Vectorizer with new min_df instead of 4 I am using 50 because of computing limitation of my pc\n",
    "vect = CountVectorizer(min_df=50, ngram_range=(1, 2)) \n",
    "\n",
    "# Apply CountVectorizer to learn training data vocabulary, then use it to create a document-term matrix\n",
    "X_train_dtm = vect.fit_transform(X_train_phone)\n",
    "\n",
    "# transform testing data (using fitted vocabulary) into a document-term matrix\n",
    "X_test_dtm = vect.transform(X_test_phone)\n",
    "\n",
    "# Perform GridSearch on Naive Bayes using the given parameters and CountVectorizer\n",
    "gs_count = GridSearchCV(MultinomialNB(), parameters, scoring='roc_auc', cv=5)\n",
    "gs_count.fit(X_train_dtm, y_train_phone)\n",
    "\n",
    "# View the best score (set to roc_auc) for MultinomialNB with CountVect\n",
    "print(gs_count)\n",
    "print('\\nBest Score: ', gs_count.best_score_)\n",
    "\n",
    "# Get best parameters for MultinomialNB with CountVect\n",
    "print('Best parameters:', gs_count.best_params_)\n",
    "# Alpha = 1 is the default and picked as best alpha\n"
   ]
  },
  {
   "cell_type": "markdown",
   "metadata": {},
   "source": [
    "__Run GridSearchCV on best parameters for TfidfVectorizer__"
   ]
  },
  {
   "cell_type": "code",
   "execution_count": 46,
   "metadata": {},
   "outputs": [
    {
     "name": "stdout",
     "output_type": "stream",
     "text": [
      "GridSearchCV(cv=5, estimator=MultinomialNB(),\n",
      "             param_grid={'alpha': (0.001, 0.01, 0.1, 1, 5, 10)},\n",
      "             scoring='roc_auc')\n",
      "\n",
      "Best Score:  0.824296914915687\n",
      "Best parameters: {'alpha': 10}\n"
     ]
    }
   ],
   "source": [
    "# Instantiate Vectorizer with new min_df instead of 2 I am using 50 because of computing limitation of my pc\n",
    "tfidf = TfidfVectorizer(min_df=50, ngram_range=(1, 2))\n",
    "\n",
    "# Apply TfidfVectorizer to learn training data vocabulary,then use it to create a document-term matrix\n",
    "X_train_tfidf_phone = tfidf.fit_transform(X_train_phone)\n",
    "\n",
    "# transform testing data with tfidif vectorizer into document-term matrix\n",
    "X_test_tfidf_phone = tfidf.transform(X_test_phone)\n",
    "\n",
    "\n",
    "# Perform GridSearch on Naive Bayes using the given parameters and CountVectorizer\n",
    "gs_tfidf = GridSearchCV(MultinomialNB(), parameters, scoring='roc_auc', cv=5)\n",
    "gs_tfidf.fit(X_train_tfidf_phone, y_train_phone)\n",
    "\n",
    "# View the best score (set to roc_auc) for MultinomialNB with TfidfVect\n",
    "print(gs_tfidf)\n",
    "print('\\nBest Score: ', gs_tfidf.best_score_)\n",
    "\n",
    "# Get best parameters for MultinomialNB with TfidfVect\n",
    "print('Best parameters:', gs_tfidf.best_params_)"
   ]
  },
  {
   "cell_type": "markdown",
   "metadata": {},
   "source": [
    "__Interpretation:__\n",
    "\n",
    "The Naive Bayes model using a minimum document frequency of 50 for CountVectorizer and TfidfVectorizer performs well. GridSearchCV indicated that the best alpha for TfidfVectorizer were 10 but for CountVectorizer it was 0.001. For the rest of the algorithms I will use the document terms matrix from the TfidfVectorizer because it has better score.\n",
    "\n",
    "Next I will look further into the text to further improve the model amongst other algorithms and classifiers. "
   ]
  },
  {
   "cell_type": "code",
   "execution_count": 47,
   "metadata": {},
   "outputs": [
    {
     "name": "stdout",
     "output_type": "stream",
     "text": [
      "AUC:  0.824193697889976\n"
     ]
    }
   ],
   "source": [
    "# Calculate predicted probabilities for X_test_tfidf_phone\n",
    "y_prob_nb = gs_tfidf.predict_proba(X_test_tfidf_phone)[:,1]\n",
    "\n",
    "# Calculate AUC for Naive Bayes model with TfidfVectorizer\n",
    "auc = metrics.roc_auc_score(y_test_phone, y_prob_nb)\n",
    "\n",
    "print('AUC: ', auc)"
   ]
  },
  {
   "cell_type": "code",
   "execution_count": 48,
   "metadata": {},
   "outputs": [
    {
     "data": {
      "image/png": "[encoded data removed]",
      "text/plain": [
       "<Figure size 720x576 with 1 Axes>"
      ]
     },
     "metadata": {
      "needs_background": "light"
     },
     "output_type": "display_data"
    }
   ],
   "source": [
    "# Generate ROC curve values: fpr, tpr, thresholds\n",
    "fpr, tpr, thresholds = roc_curve(y_test_phone, y_prob_nb)\n",
    "\n",
    "# Plot ROC curve\n",
    "plt.figure(figsize=(10,8))\n",
    "plt.plot([0, 1], [0, 1], 'k--')\n",
    "plt.plot(fpr, tpr)\n",
    "plt.xlabel('False Positive Rate')\n",
    "plt.ylabel('True Positive Rate')\n",
    "plt.title('ROC Curve with TfidfVectorizer, MNB')\n",
    "plt.show()"
   ]
  },
  {
   "cell_type": "markdown",
   "metadata": {},
   "source": [
    "### Most Predictive Features"
   ]
  },
  {
   "cell_type": "code",
   "execution_count": 49,
   "metadata": {},
   "outputs": [],
   "source": [
    "words = np.array(tfidf.get_feature_names())\n",
    "\n",
    "# Create an identity matrix the length of the vocabulary\n",
    "x = np.eye(X_test_tfidf_phone.shape[1]) "
   ]
  },
  {
   "cell_type": "code",
   "execution_count": 50,
   "metadata": {},
   "outputs": [],
   "source": [
    "# Use the model to predict on the identity matrix, and get a list of probabilities for each word\n",
    "probs = gs_tfidf.predict_log_proba(x)[:,0] \n",
    "\n"
   ]
  },
  {
   "cell_type": "code",
   "execution_count": 51,
   "metadata": {},
   "outputs": [
    {
     "name": "stdout",
     "output_type": "stream",
     "text": [
      "Positive words\t     P(five (positive) | word)\n",
      "    highly recommend 0.89\n",
      "           love love 0.88\n",
      "              highly 0.87\n",
      "     absolutely love 0.85\n",
      "          thank much 0.84\n",
      "           love much 0.84\n",
      "  recommend everyone 0.83\n",
      "        would highly 0.83\n",
      "                love 0.82\n",
      "           love case 0.82\n",
      "Negative words\t     P(five (positive) | word)\n",
      "           guess get 0.21\n",
      "             useless 0.20\n",
      "               trash 0.20\n",
      "           send back 0.20\n",
      "               waste 0.19\n",
      "             get pay 0.18\n",
      "            one star 0.18\n",
      "              refund 0.17\n",
      "         reason give 0.16\n",
      "         waste money 0.16\n"
     ]
    }
   ],
   "source": [
    "# Sort for most/least probable words for any give class\n",
    "ind = np.argsort(probs)\n",
    "\n",
    "good_words = words[ind[:10]]\n",
    "bad_words = words[ind[-10:]]\n",
    "\n",
    "good_prob = probs[ind[:10]]\n",
    "bad_prob = probs[ind[-10:]]\n",
    "\n",
    "print(\"Positive words\\t     P(five (positive) | word)\")\n",
    "for w, p in zip(good_words, good_prob):\n",
    "    print(\"{:>20}\".format(w), \"{:.2f}\".format(1 - np.exp(p)))\n",
    "    \n",
    "print(\"Negative words\\t     P(five (positive) | word)\")\n",
    "for w, p in zip(bad_words, bad_prob):\n",
    "    print(\"{:>20}\".format(w), \"{:.2f}\".format(1 - np.exp(p)))"
   ]
  },
  {
   "cell_type": "markdown",
   "metadata": {},
   "source": [
    "### Fit other Classifiers with TFIDF Vectorizer\n",
    "\n",
    "#### 1. Logistic Regression"
   ]
  },
  {
   "cell_type": "code",
   "execution_count": 52,
   "metadata": {},
   "outputs": [
    {
     "name": "stderr",
     "output_type": "stream",
     "text": [
      "/opt/conda/lib/python3.7/site-packages/sklearn/linear_model/_logistic.py:1317: UserWarning: l1_ratio parameter is only used when penalty is 'elasticnet'. Got (penalty=l2)\n",
      "  \"(penalty={})\".format(self.penalty))\n"
     ]
    },
    {
     "name": "stdout",
     "output_type": "stream",
     "text": [
      "Tuned Logistic Regression Parameters: {'C': 0.8500000000000001, 'l1_ratio': 0}\n",
      "Best score is 0.8456976009524592\n"
     ]
    }
   ],
   "source": [
    "# Setup the hyperparameter grid\n",
    "param_grid = {'C': np.arange(0.05, 4, 0.8),\n",
    "              'l1_ratio': [0, 1]\n",
    "              }\n",
    "# Instantiate a logistic regression classifier: logreg\n",
    "logreg = LogisticRegression(max_iter=1000)\n",
    "\n",
    "# Instantiate the GridSearchCV object: logreg_cv\n",
    "logreg_cv = GridSearchCV(logreg, param_grid, cv=5, scoring='roc_auc', n_jobs = -1)\n",
    "\n",
    "# Fit it to the data\n",
    "logreg_cv.fit(X_train_tfidf_phone, y_train_phone)\n",
    "\n",
    "# Print the tuned parameters and score\n",
    "print(\"Tuned Logistic Regression Parameters: {}\".format(logreg_cv.best_params_)) \n",
    "print(\"Best score is {}\".format(logreg_cv.best_score_))"
   ]
  },
  {
   "cell_type": "code",
   "execution_count": 53,
   "metadata": {},
   "outputs": [
    {
     "data": {
      "text/plain": [
       "0.8023867708130312"
      ]
     },
     "execution_count": 53,
     "metadata": {},
     "output_type": "execute_result"
    }
   ],
   "source": [
    "pred_log_clf = logreg_cv.predict(X_test_tfidf_phone)\n",
    "\n",
    "# Calculate F1 Score\n",
    "metrics.f1_score(y_test_phone, pred_log_clf)"
   ]
  },
  {
   "cell_type": "code",
   "execution_count": 54,
   "metadata": {},
   "outputs": [
    {
     "data": {
      "text/plain": [
       "0.8482268330367587"
      ]
     },
     "execution_count": 54,
     "metadata": {},
     "output_type": "execute_result"
    }
   ],
   "source": [
    "# Calculate Predicted Probabilities,# keep probabilities for the positive outcome only\n",
    "pred_prob_log_clf = logreg_cv.predict_proba(X_test_tfidf_phone)[:,1]\n",
    "\n",
    "# Determine ROC Score\n",
    "metrics.roc_auc_score(y_test_phone, pred_prob_log_clf)\n",
    "\n"
   ]
  },
  {
   "cell_type": "code",
   "execution_count": 55,
   "metadata": {},
   "outputs": [
    {
     "data": {
      "image/png": "[encoded data removed]",
      "text/plain": [
       "<Figure size 720x720 with 1 Axes>"
      ]
     },
     "metadata": {
      "needs_background": "light"
     },
     "output_type": "display_data"
    }
   ],
   "source": [
    "# Generate ROC curve values: fpr, tpr, thresholds\n",
    "fpr, tpr, thresholds = roc_curve(y_test_phone, pred_prob_log_clf)\n",
    "\n",
    "# Plot ROC curve\n",
    "plt.figure(figsize=(10,10))\n",
    "plt.plot([0, 1], [0, 1], 'k--')\n",
    "plt.plot(fpr, tpr)\n",
    "plt.xlabel('False Positive Rate')\n",
    "plt.ylabel('True Positive Rate')\n",
    "plt.title('ROC Curve for LogisticRegressionCV')\n",
    "plt.show()\n",
    "\n"
   ]
  },
  {
   "cell_type": "markdown",
   "metadata": {},
   "source": [
    "#### 2. Random Forest"
   ]
  },
  {
   "cell_type": "code",
   "execution_count": 56,
   "metadata": {},
   "outputs": [
    {
     "data": {
      "text/plain": [
       "0.7818505983319232"
      ]
     },
     "execution_count": 56,
     "metadata": {},
     "output_type": "execute_result"
    }
   ],
   "source": [
    "# Instantiate and fit Random Forests Model\n",
    "rf_clf = RandomForestClassifier(class_weight='balanced',n_jobs = -1).fit(X_train_tfidf_phone, y_train_phone)\n",
    "\n",
    "\n",
    "pred_rf_clf = rf_clf.predict(X_test_tfidf_phone)\n",
    "\n",
    "# Calculate F1 Score\n",
    "metrics.f1_score(y_test_phone, pred_rf_clf)\n",
    "\n"
   ]
  },
  {
   "cell_type": "code",
   "execution_count": 75,
   "metadata": {},
   "outputs": [
    {
     "name": "stderr",
     "output_type": "stream",
     "text": [
      "/opt/conda/lib/python3.7/site-packages/joblib/externals/loky/process_executor.py:706: UserWarning: A worker stopped while some jobs were given to the executor. This can be caused by a too short worker timeout or by a memory leak.\n",
      "  \"timeout or by a memory leak.\", UserWarning\n"
     ]
    },
    {
     "data": {
      "text/plain": [
       "GridSearchCV(cv=3, estimator=RandomForestClassifier(class_weight='balanced'),\n",
       "             n_jobs=4,\n",
       "             param_grid={'max_depth': [10, 50, None],\n",
       "                         'max_features': ['sqrt', 'auto'],\n",
       "                         'n_estimators': [50, 100]},\n",
       "             scoring='roc_auc')"
      ]
     },
     "execution_count": 75,
     "metadata": {},
     "output_type": "execute_result"
    }
   ],
   "source": [
    "# Create the parameter grid\n",
    "parameters = {'max_features': ['sqrt', 'auto'],\n",
    "              'max_depth': [10, 50, None],\n",
    "              'n_estimators': [50, 100]\n",
    "              }\n",
    "\n",
    "# Instantiate the grid search model\n",
    "gs_rf = GridSearchCV(RandomForestClassifier(class_weight='balanced'), \n",
    "                     parameters, scoring='roc_auc', n_jobs=4, cv=3)\n",
    "\n",
    "# Fit the grid search to the data\n",
    "gs_rf.fit(X_train_tfidf_phone, y_train_phone)\n",
    "\n"
   ]
  },
  {
   "cell_type": "code",
   "execution_count": 76,
   "metadata": {},
   "outputs": [
    {
     "name": "stdout",
     "output_type": "stream",
     "text": [
      "Best Score:  0.8187318379584817\n",
      "Best Parameters:  {'max_depth': None, 'max_features': 'auto', 'n_estimators': 100}\n"
     ]
    }
   ],
   "source": [
    "# Get best parameters and best accuracy score\n",
    "print('Best Score: ', gs_rf.best_score_)\n",
    "print('Best Parameters: ', gs_rf.best_params_)"
   ]
  },
  {
   "cell_type": "code",
   "execution_count": 77,
   "metadata": {},
   "outputs": [],
   "source": [
    "# calculate predicted probabilities # keep probabilities for the positive outcome only\n",
    "pred_prob_rf_clf = gs_rf.predict_proba(X_test_tfidf_phone)[:, 1]"
   ]
  },
  {
   "cell_type": "code",
   "execution_count": 78,
   "metadata": {},
   "outputs": [
    {
     "data": {
      "text/plain": [
       "0.8229708612457867"
      ]
     },
     "execution_count": 78,
     "metadata": {},
     "output_type": "execute_result"
    }
   ],
   "source": [
    "# Determine ROC score\n",
    "metrics.roc_auc_score(y_test_phone, pred_prob_rf_clf)"
   ]
  },
  {
   "cell_type": "code",
   "execution_count": 79,
   "metadata": {},
   "outputs": [
    {
     "ename": "SyntaxError",
     "evalue": "invalid syntax (<ipython-input-79-5b2f6d082f83>, line 6)",
     "output_type": "error",
     "traceback": [
      "\u001b[0;36m  File \u001b[0;32m\"<ipython-input-79-5b2f6d082f83>\"\u001b[0;36m, line \u001b[0;32m6\u001b[0m\n\u001b[0;31m    plt.plot([0, 1], [0, 1], 'k--', , label='No Skill')\u001b[0m\n\u001b[0m                                    ^\u001b[0m\n\u001b[0;31mSyntaxError\u001b[0m\u001b[0;31m:\u001b[0m invalid syntax\n"
     ]
    }
   ],
   "source": [
    "# Generate ROC curve values: fpr, tpr, thresholds\n",
    "fpr, tpr, thresholds = roc_curve(y_test_phone, pred_prob_rf_clf)\n",
    "\n",
    "# Plot ROC curve\n",
    "plt.figure(figsize=(10,10))\n",
    "plt.plot([0, 1], [0, 1], 'k--',label='No Skill')\n",
    "plt.plot(fpr, tpr, label='Logistic')\n",
    "plt.xlabel('False Positive Rate')\n",
    "plt.ylabel('True Positive Rate')\n",
    "plt.title('ROC Curve for RandomForestClassifier')\n",
    "plt.show()"
   ]
  },
  {
   "cell_type": "markdown",
   "metadata": {},
   "source": [
    "### Thresholding for best model based on different business situation\n",
    "\n",
    "- Adjust threshold of best classifier which is Logistic Regression\n",
    "\n",
    "- The default threshold for interpreting probabilities to class labels is 0.5\n",
    "      Prediction < 0.5 = Class 0\n",
    "      Prediction >= 0.5 = Class 1\n",
    "- Procedure for Thresholding:\n",
    "      1. Fit Model on the Training Dataset.\n",
    "      2. Predict Probabilities on the Test Dataset.\n",
    "      3. For each threshold in Thresholds:\n",
    "            3a. Convert probabilities to Class Labels using the threshold.\n",
    "            3b. Evaluate Class Labels.\n",
    "            3c. If Score is Better than Best Score.\n",
    "            3ci. Adopt Threshold.\n",
    "      4. Use Adopted Threshold When Making Class Predictions on New Data.\n",
    "\n"
   ]
  },
  {
   "cell_type": "markdown",
   "metadata": {},
   "source": [
    "__Scoring metrics:__ \n",
    "    \n",
    "    - Precision \n",
    "    - Recall\n",
    "    - Balanced Accuracy (Accuracy determined for imbalanced datasets)\n",
    "    - f1-score"
   ]
  },
  {
   "cell_type": "markdown",
   "metadata": {},
   "source": [
    "#### I. __Business Case 1: Market Comparisons of the Cell Phones__\n",
    "\n",
    "I will look at __balanced acccuracy__ and __confusion matrices__ to determined the best threshold to have best accuracy, and least number of false positives and false negatives.\n",
    "\n"
   ]
  },
  {
   "cell_type": "code",
   "execution_count": 57,
   "metadata": {},
   "outputs": [
    {
     "name": "stdout",
     "output_type": "stream",
     "text": [
      "[[18222  7318]\n",
      " [ 5863 26760]]\n",
      "-----------------\n",
      "[['TN' 'FP']\n",
      " ['FN' 'TP']]\n"
     ]
    }
   ],
   "source": [
    "# Create and print the confusion matrix for the LogReg Model\n",
    "confusion_logreg = metrics.confusion_matrix(y_test_phone, pred_log_clf)\n",
    "print(confusion_logreg)\n",
    "print('-'* 17)\n",
    "print(np.array([['TN', 'FP'],[ 'FN' , 'TP']]))"
   ]
  },
  {
   "cell_type": "code",
   "execution_count": 58,
   "metadata": {},
   "outputs": [
    {
     "data": {
      "text/plain": [
       "0.766874619280165"
      ]
     },
     "execution_count": 58,
     "metadata": {},
     "output_type": "execute_result"
    }
   ],
   "source": [
    "# Calculate balanced accuracy\n",
    "balanced_accuracy_score(y_test_phone, pred_log_clf)"
   ]
  },
  {
   "cell_type": "code",
   "execution_count": 59,
   "metadata": {},
   "outputs": [],
   "source": [
    "# define thresholds\n",
    "thresholds_a =np.arange(0,1,.01)"
   ]
  },
  {
   "cell_type": "code",
   "execution_count": 60,
   "metadata": {},
   "outputs": [],
   "source": [
    "# apply threshold to positive probabilities to create labels\n",
    "def to_labels(y_pred_prob, threshold):\n",
    "    return (y_pred_prob >= threshold).astype('int')"
   ]
  },
  {
   "cell_type": "code",
   "execution_count": 61,
   "metadata": {},
   "outputs": [
    {
     "name": "stdout",
     "output_type": "stream",
     "text": [
      "Best Threshold=0.540\n",
      "\n",
      "Highest Accuracy=0.76858\n",
      "\n",
      "[[19207  6333]\n",
      " [ 7010 25613]]\n"
     ]
    }
   ],
   "source": [
    "balanced_accuracy_points = [balanced_accuracy_score(y_test_phone, to_labels(pred_prob_log_clf, t)) for t in thresholds_a]\n",
    "\n",
    "# get best threshold\n",
    "ix1 = np.argmax(balanced_accuracy_points)\n",
    "\n",
    "print('Best Threshold=%.3f' % (thresholds_a[ix1]))\n",
    "print()\n",
    "print('Highest Accuracy=%.5f'%(balanced_accuracy_points[ix1]))\n",
    "print()\n",
    "print(metrics.confusion_matrix(y_test_phone, to_labels(pred_prob_log_clf, thresholds_a[ix1])))"
   ]
  },
  {
   "cell_type": "markdown",
   "metadata": {},
   "source": [
    "The threshold level of 0.54 provides the best results with a balanced accuracy of 0.768. In total there are 13343 mispredictions, 7010 false negatives and 6333 false positives.\n",
    "\n"
   ]
  },
  {
   "cell_type": "code",
   "execution_count": 66,
   "metadata": {},
   "outputs": [
    {
     "data": {
      "image/png": "[encoded data removed]",
      "text/plain": [
       "<Figure size 720x432 with 1 Axes>"
      ]
     },
     "metadata": {
      "needs_background": "light"
     },
     "output_type": "display_data"
    }
   ],
   "source": [
    "plt.figure(figsize=(10,6))\n",
    "\n",
    "plt.plot(thresholds_a, balanced_accuracy_points, color='red')\n",
    "plt.title('Accuracy Curve')\n",
    "plt.legend(('Accuracy', 'Balanced Accuracy'))\n",
    "plt.xlabel('Threshold')\n",
    "plt.axvline(x=.54, color='black')\n",
    "plt.text(.52,.55,'Optimal Threshold Balanced Acc.',rotation=90)\n",
    "plt.ylabel('Proportion')\n",
    "plt.show()"
   ]
  },
  {
   "cell_type": "markdown",
   "metadata": {},
   "source": [
    "### II. Business Case 2: Customer Satisfaction\n",
    "\n",
    "For this case we will target the negative or low rated reviews because negative (low rated) reviews helps sellers to understand the issue and to improve their products and services. To measure this I will use F1-score because it is a better measure when focusing on a specific class in this case low ratings. "
   ]
  },
  {
   "cell_type": "code",
   "execution_count": 67,
   "metadata": {},
   "outputs": [],
   "source": [
    "# Calculate Precision and Recall Curve\n",
    "precision, recall, thresholds = precision_recall_curve(y_test_phone, pred_prob_log_clf)\n",
    "thresholds = np.append(thresholds, 1)"
   ]
  },
  {
   "cell_type": "code",
   "execution_count": 68,
   "metadata": {},
   "outputs": [],
   "source": [
    "# Define a function to apply threshold to positive probabilities to create labels\n",
    "def to_labels(y_pred_prob, threshold):\n",
    "    return (y_pred_prob >= threshold).astype('int')"
   ]
  },
  {
   "cell_type": "code",
   "execution_count": 69,
   "metadata": {},
   "outputs": [
    {
     "name": "stdout",
     "output_type": "stream",
     "text": [
      "Best Threshold=0.598, f1-Score=0.74550\n",
      "\n",
      "Classification_Report:\n",
      "              precision    recall  f1-score   support\n",
      "\n",
      "           0       0.70      0.80      0.75     25540\n",
      "           1       0.82      0.72      0.77     32623\n",
      "\n",
      "    accuracy                           0.76     58163\n",
      "   macro avg       0.76      0.76      0.76     58163\n",
      "weighted avg       0.77      0.76      0.76     58163\n",
      "\n"
     ]
    }
   ],
   "source": [
    "# evaluate each threshold\n",
    "scores = [metrics.f1_score(y_test_phone, to_labels(pred_prob_log_clf, t), pos_label=0) for t in thresholds]\n",
    "\n",
    "# get best threshold\n",
    "ix = np.argmax(scores)\n",
    "\n",
    "print('Best Threshold=%.3f, f1-Score=%.5f' % (thresholds[ix], scores[ix]))\n",
    "print()\n",
    "print('Classification_Report:')\n",
    "print(metrics.classification_report(y_test_phone, to_labels(pred_prob_log_clf, thresholds[ix])))\n",
    "\n"
   ]
  },
  {
   "cell_type": "markdown",
   "metadata": {},
   "source": [
    "The optimal threshold for this case is 0.598 with f1_score of 0.745.\n",
    "\n",
    "Now lets plot the Precision, Recall and f1-Score on a graph together.\n",
    "\n",
    "\n"
   ]
  },
  {
   "cell_type": "code",
   "execution_count": 73,
   "metadata": {},
   "outputs": [
    {
     "data": {
      "image/png": "[encoded data removed]",
      "text/plain": [
       "<Figure size 720x360 with 1 Axes>"
      ]
     },
     "metadata": {
      "needs_background": "light"
     },
     "output_type": "display_data"
    }
   ],
   "source": [
    "# Plot Precision, Recall and fbeta-Score on a graph together.\n",
    "\n",
    "plt.figure(figsize=(10,5))\n",
    "plt.plot(thresholds, precision, color='blue')\n",
    "plt.plot(thresholds, recall, color='red')\n",
    "plt.plot(thresholds, scores, color='green')\n",
    "plt.title('Precision Recall Curve - LogisticRegressionCV')\n",
    "plt.legend(('Precision', 'Recall', 'f1-Score'))\n",
    "plt.xlabel('Threshold')\n",
    "plt.ylabel('Proportion')\n",
    "plt.axvline(x=.598, color='black')\n",
    "plt.text(.57,.15,'Optimal Threshold F1',rotation=90)\n",
    "plt.axvline(x=.54, color='black')\n",
    "plt.text(.52,.08,'Optimal Threshold Balanced Acc.',rotation=90)\n",
    "plt.show()\n",
    "\n"
   ]
  },
  {
   "cell_type": "code",
   "execution_count": null,
   "metadata": {},
   "outputs": [],
   "source": []
  },
  {
   "cell_type": "code",
   "execution_count": null,
   "metadata": {},
   "outputs": [],
   "source": []
  },
  {
   "cell_type": "code",
   "execution_count": null,
   "metadata": {},
   "outputs": [],
   "source": []
  },
  {
   "cell_type": "code",
   "execution_count": null,
   "metadata": {},
   "outputs": [],
   "source": []
  },
  {
   "cell_type": "code",
   "execution_count": null,
   "metadata": {},
   "outputs": [],
   "source": []
  },
  {
   "cell_type": "code",
   "execution_count": null,
   "metadata": {},
   "outputs": [],
   "source": []
  }
 ],
 "metadata": {
  "kernelspec": {
   "display_name": "Python 3",
   "language": "python",
   "name": "python3"
  },
  "language_info": {
   "codemirror_mode": {
    "name": "ipython",
    "version": 3
   },
   "file_extension": ".py",
   "mimetype": "text/x-python",
   "name": "python",
   "nbconvert_exporter": "python",
   "pygments_lexer": "ipython3",
   "version": "3.7.6"
  }
 },
 "nbformat": 4,
 "nbformat_minor": 4
}
